{
  "cells": [
    {
      "cell_type": "markdown",
      "metadata": {
        "id": "SCZaTk6POkXF"
      },
      "source": [
        "# Problem Formulation"
      ]
    },
    {
      "cell_type": "markdown",
      "metadata": {
        "id": "EG7iwHNbO_HM"
      },
      "source": [
        "### What is the input?\n",
        "\n",
        "\n",
        "\n"
      ]
    },
    {
      "cell_type": "markdown",
      "metadata": {
        "id": "LI3RWLu5POXz"
      },
      "source": [
        "the input data is a graph that represent chemical compound 💊 \n",
        "\n",
        "*   The atoms of the chemical compound representing nodes and bonds as edges\n",
        "*   It is a bioassay task for anticancer activity prediction\n",
        "*   this dataset is very unbalanced 😞\n",
        "\n",
        "\n",
        "\n"
      ]
    },
    {
      "cell_type": "markdown",
      "metadata": {
        "id": "Lh4P8Pf2RtC7"
      },
      "source": [
        "### What is the output?\n"
      ]
    },
    {
      "cell_type": "markdown",
      "metadata": {
        "id": "tfogqJlZSBOO"
      },
      "source": [
        "The main output is the label of anticancer activity prediction task 🔥\n",
        "\n",
        "\n",
        "*   the label represent if the chemical compound is positive against non-small cell lung cancer, or negative:\n",
        "  - 1 for possitive\n",
        "  - 0 for negative\n"
      ]
    },
    {
      "cell_type": "markdown",
      "metadata": {
        "id": "V88cNuLOSp7e"
      },
      "source": [
        "### What data mining function is required?"
      ]
    },
    {
      "cell_type": "markdown",
      "metadata": {
        "id": "i7P-930fTHrI"
      },
      "source": [
        "As I understand from this part of the slide\n",
        "\n",
        "\n",
        "```\n",
        "Data Mining Functions\n",
        "1. Generalization and Summarization\n",
        "2. Association and Correlation\n",
        "3. Classification & Prediction\n",
        "4. Clustering\n",
        "5. Outlier/Anomaly Analysis\n",
        "6. Time and Ordering \n",
        "7. Structure and Network Analysis\n",
        "```\n",
        "\n",
        "The data mining in this problem requires Classification & Prediction After cleaning the data\n",
        "\n"
      ]
    },
    {
      "cell_type": "markdown",
      "metadata": {
        "id": "3cNfm22JTIs9"
      },
      "source": [
        "### What could be the challenges?"
      ]
    },
    {
      "cell_type": "markdown",
      "metadata": {
        "id": "SgXlNDGyTPEt"
      },
      "source": [
        "The Challenges represented in:\n",
        "\n",
        "\n",
        "*   Reading SDF format of the files that contain data\n",
        "*   Dealing with graphs\n",
        "*   Unbalanced data\n",
        "\n",
        "\n",
        "\n",
        "\n",
        "\n",
        "\n"
      ]
    },
    {
      "cell_type": "markdown",
      "metadata": {
        "id": "wUrv-fxXTPWj"
      },
      "source": [
        "### What is the impact?"
      ]
    },
    {
      "cell_type": "markdown",
      "metadata": {
        "id": "JPmpbe4wTYUz"
      },
      "source": [
        "The impact of using the raw data as it is, without cleaning and reprocessing, will result a model with low accuracy that doesn't learn well or a desired from the data in the traing stage\n",
        "\n",
        "\n",
        "---\n",
        "\n",
        "The real-life impact of building a model that solve this problem is represent in finding the appropriate chemical compound that could treat lung cancer patients by distinguish if the chemical compound is positive against non-small cell lung cancer, or negative 🔥🔥🔥\n",
        "\n",
        "<br/>\n",
        "\n",
        "\n",
        "Solving this problem could provide a solution for cancer patients 😍!\n",
        "\n"
      ]
    },
    {
      "cell_type": "markdown",
      "metadata": {
        "id": "4yjhAPTaTYgP"
      },
      "source": [
        "### What is an ideal solution?"
      ]
    },
    {
      "cell_type": "markdown",
      "metadata": {
        "id": "smtxsp6rTe6q"
      },
      "source": [
        "the ideal solution is to clean and preprocess the data before working with it\n",
        "\n",
        "\n",
        "\n",
        "> Some of the possible solutions are:\n",
        "\n",
        "\n",
        "\n",
        "*   Dealing with unbalanced data by up-sampling it\n",
        "*   Preprocess text data (that represent the atom name in the chemical compound) before dealing with them\n",
        "\n",
        "\n",
        "\n",
        "\n",
        "\n",
        "\n",
        "\n",
        "\n",
        "\n"
      ]
    },
    {
      "cell_type": "markdown",
      "metadata": {
        "id": "yzijuPO0fkKC"
      },
      "source": [
        "### What is the experimental protocol used and how was it carried out? "
      ]
    },
    {
      "cell_type": "markdown",
      "metadata": {
        "id": "7t0TqNx_fqp3"
      },
      "source": [
        "After loading the data and cleaning and preprocessing it, the experimental protocol used is spliting the training dataset into training_set and validation_set to fit the model using the new training_set and measure the perormance (AUROC) of the model using the validation_set and then make the prediction by using the original test dataset 🔥\n",
        "\n"
      ]
    },
    {
      "cell_type": "markdown",
      "metadata": {
        "id": "_Qo-uOPBfrje"
      },
      "source": [
        "### What preprocessing steps are used?\n"
      ]
    },
    {
      "cell_type": "markdown",
      "metadata": {
        "id": "KZW8oroKfysp"
      },
      "source": [
        "*   view the data and understand it\n",
        "*   adjust the training data to ***up-sample*** the positive class samples\n",
        "*   preprocess text data through:\n",
        "  -   build vocabulary from training set using tokenizer\n",
        "  -   apply pad_sequences() function \n",
        "*   apply prepare_single_batch for all samples in gen_batch"
      ]
    },
    {
      "cell_type": "markdown",
      "metadata": {
        "id": "2hzdweU6Bh7i"
      },
      "source": [
        "# Get Started (Importing packages & Loading the data)\n"
      ]
    },
    {
      "cell_type": "markdown",
      "metadata": {
        "id": "-XrzCH4z6_ss"
      },
      "source": [
        "## Import packages "
      ]
    },
    {
      "cell_type": "code",
      "execution_count": 1,
      "metadata": {
        "id": "WkKhg1LT5mqX"
      },
      "outputs": [],
      "source": [
        "import numpy as np \n",
        "import pandas as pd \n",
        "import seaborn as sns \n",
        "import matplotlib.pyplot as plt \n",
        "%matplotlib inline\n",
        "import sklearn\n",
        "from sklearn.model_selection import train_test_split, cross_val_score, KFold\n",
        "\n",
        "from sklearn.metrics import classification_report, confusion_matrix, roc_curve, precision_score, recall_score, f1_score, precision_recall_curve\n",
        "from tqdm.notebook import tqdm\n",
        "import os\n",
        "import math\n",
        "sns.set()\n",
        "\n",
        "from sklearn.pipeline import make_pipeline\n",
        "from sklearn.preprocessing import StandardScaler, LabelEncoder, OneHotEncoder\n",
        "from time import time\n",
        "from sklearn.decomposition import PCA\n",
        "from sklearn.pipeline import Pipeline\n"
      ]
    },
    {
      "cell_type": "code",
      "execution_count": 2,
      "metadata": {
        "id": "KlsZO5BCVyGz"
      },
      "outputs": [],
      "source": [
        "from sklearn.utils import resample \n",
        "import tensorflow as tf\n",
        "from tensorflow.math import segment_mean\n",
        "from tensorflow import keras\n",
        "from tensorflow.keras import Input, Model\n",
        "from tensorflow.keras.layers import Embedding, Dense\n",
        "from tensorflow.keras.optimizers import Adam\n",
        "\n"
      ]
    },
    {
      "cell_type": "code",
      "execution_count": 3,
      "metadata": {
        "id": "8qm-scQTor61"
      },
      "outputs": [],
      "source": [
        "from tensorflow.keras.layers import Conv2D, MaxPool2D\n",
        "from tensorflow.keras.layers import Flatten, Dropout\n",
        "from tensorflow.keras.layers import GRU, LSTM, Bidirectional"
      ]
    },
    {
      "cell_type": "code",
      "execution_count": 4,
      "metadata": {
        "colab": {
          "base_uri": "https://localhost:8080/"
        },
        "id": "ZslYa433nV4c",
        "outputId": "bd046020-d0ed-4f22-b729-c0422dc86c68"
      },
      "outputs": [
        {
          "name": "stdout",
          "output_type": "stream",
          "text": [
            "\u001b[K     |████████████████████████████████| 54 kB 1.3 MB/s \n",
            "\u001b[K     |████████████████████████████████| 73 kB 1.3 MB/s \n",
            "\u001b[K     |████████████████████████████████| 346 kB 5.4 MB/s \n",
            "\u001b[K     |████████████████████████████████| 134 kB 51.0 MB/s \n",
            "\u001b[K     |████████████████████████████████| 1.2 MB 47.0 MB/s \n",
            "\u001b[K     |████████████████████████████████| 462 kB 62.8 MB/s \n",
            "\u001b[K     |████████████████████████████████| 79 kB 6.4 MB/s \n",
            "\u001b[K     |████████████████████████████████| 178 kB 26.1 MB/s \n",
            "\u001b[K     |████████████████████████████████| 3.6 MB 44.3 MB/s \n",
            "\u001b[K     |████████████████████████████████| 85 kB 3.8 MB/s \n",
            "\u001b[K     |████████████████████████████████| 41 kB 272 kB/s \n",
            "\u001b[?25h  Building wheel for tf2-gnn (setup.py) ... \u001b[?25l\u001b[?25hdone\n",
            "\u001b[31mERROR: pip's dependency resolver does not currently take into account all the packages that are installed. This behaviour is the source of the following dependency conflicts.\n",
            "arviz 0.11.4 requires typing-extensions<4,>=3.7.4.3, but you have typing-extensions 4.1.1 which is incompatible.\u001b[0m\n"
          ]
        }
      ],
      "source": [
        "!pip install --quiet tf2_gnn\n",
        "\n",
        "# https://github.com/microsoft/tf2-gnn\n",
        "# https://github.com/microsoft/tf2-gnn/blob/master/tf2_gnn/layers/gnn.py\n",
        "\n",
        "from tf2_gnn.layers.gnn import GNN, GNNInput\n",
        "from tf2_gnn.layers.message_passing import GNN_Edge_MLP, GNN_FiLM"
      ]
    },
    {
      "cell_type": "code",
      "execution_count": 5,
      "metadata": {
        "id": "H3juXRr_7UQj"
      },
      "outputs": [],
      "source": [
        "import warnings\n",
        "warnings.filterwarnings('ignore')"
      ]
    },
    {
      "cell_type": "code",
      "execution_count": 6,
      "metadata": {
        "id": "yoY2ymc4PyaA"
      },
      "outputs": [],
      "source": [
        "# some seeting for pandas and hvplot\n",
        "\n",
        "pd.options.display.max_columns = 100\n",
        "pd.options.display.max_rows = 300\n",
        "pd.options.display.max_colwidth = 100\n",
        "np.set_printoptions(threshold=2000)"
      ]
    },
    {
      "cell_type": "markdown",
      "metadata": {
        "id": "CZOszu8Y7p1k"
      },
      "source": [
        "## Load Data"
      ]
    },
    {
      "cell_type": "code",
      "execution_count": 7,
      "metadata": {
        "id": "lHGrifgKB_4b"
      },
      "outputs": [],
      "source": [
        "# create function that read sdf files\n",
        "\n",
        "def read_sdf(file):\n",
        "    with open(file, 'r') as rf:\n",
        "        content = rf.read()\n",
        "    samples = content.split('$$$$')\n",
        "    \n",
        "    def parse_sample(s):\n",
        "        lines = s.splitlines()\n",
        "        links = []\n",
        "        nodes = []\n",
        "        label = 0\n",
        "        for l in lines:\n",
        "            if l.strip() == '1.0':\n",
        "                label = 1\n",
        "            if l.strip() == '-1.0':\n",
        "                label = 0\n",
        "            if l.startswith('    '):\n",
        "                feature = l.split()\n",
        "                node = feature[3]\n",
        "                nodes.append(node)\n",
        "            elif l.startswith(' '):\n",
        "                lnk = l.split()\n",
        "                # edge: (from, to,) (1-based index)\n",
        "                if int(lnk[0]) - 1 < len(nodes):\n",
        "                    links.append((\n",
        "                        int(lnk[0])-1, \n",
        "                        int(lnk[1])-1, # zero-based index\n",
        "                        # int(lnk[2]) ignore edge weight\n",
        "                    ))\n",
        "        return nodes, np.array(links), label\n",
        "    \n",
        "    return [parse_sample(s) for s in tqdm(samples) if len(s[0]) > 0]\n",
        "                "
      ]
    },
    {
      "cell_type": "code",
      "execution_count": null,
      "metadata": {
        "colab": {
          "base_uri": "https://localhost:8080/",
          "height": 0,
          "referenced_widgets": [
            "9245a1d13a51458683fb8919859286eb",
            "a1f9f23283d04df9bab7e503d4a009e2",
            "0807ef1d5bef440eab026169de642297",
            "53646c4ab376433a93fd7902a2cc0b12",
            "ba2e795d935147b0b1f35aedc4671d92",
            "aaec8ff6a4664d38b1be547dbb22893f",
            "e43833dbdaf148b19d81bc305daaccf8",
            "17d34751168445faa03fdcfeac1eff83",
            "add0bed843aa4ba8be6f413d7b23a213",
            "f740669a2ea240c99f187d45e698ae9c",
            "6fbd187abf854d948f3d8af7313c2be6",
            "0564a0534bd348919b2d449d4c75f4d9",
            "6b8cdb85a7a84fbca48633f233bb00df",
            "610f674723db47dfa53dbc08a96cee05",
            "45ca81f6d35f46608cd622a5db8a2dd2",
            "7070e68979674461b7640e18d2b7aac4",
            "65ee1c3638af49b894d3fbce6865cb73",
            "ccb6c86d21e6451797ff23f7c60703e5",
            "344f757c297f4dec8643515679b98bd7",
            "c9189dbddec2457ea52f32f945e3af38",
            "95e90162bf3045ccbde21a72b873c1a1",
            "a4314f4295074f809549b59c68841ba5"
          ]
        },
        "id": "GxAKKxHY7voE",
        "outputId": "d9927037-f68c-4eee-9f22-fdf7439187b5"
      },
      "outputs": [],
      "source": [
        "# Loading the data from csv files\n",
        "\n",
        "train = read_sdf('data/train.sdf')\n",
        "test = read_sdf('data/test_x.sdf')\n"
      ]
    },
    {
      "cell_type": "code",
      "execution_count": 9,
      "metadata": {
        "colab": {
          "base_uri": "https://localhost:8080/"
        },
        "id": "bJ6A7dMT7wh0",
        "outputId": "39779afa-d6fc-4fa1-efd4-b187699a38b0"
      },
      "outputs": [
        {
          "name": "stdout",
          "output_type": "stream",
          "text": [
            "(['S', 'O', 'O', 'O', 'O', 'N', 'N', 'N', 'C', 'C', 'C', 'C', 'C', 'C', 'C', 'C', 'C', 'C', 'C', 'C', 'C', 'C', 'C', 'C', 'C'], array([[ 0,  8],\n",
            "       [ 0, 14],\n",
            "       [ 1, 10],\n",
            "       [ 2, 11],\n",
            "       [ 3,  7],\n",
            "       [ 4,  7],\n",
            "       [ 5,  9],\n",
            "       [ 5, 14],\n",
            "       [ 6, 14],\n",
            "       [ 6, 17],\n",
            "       [ 7, 22],\n",
            "       [ 8,  9],\n",
            "       [ 8, 10],\n",
            "       [ 9, 11],\n",
            "       [10, 12],\n",
            "       [11, 13],\n",
            "       [12, 13],\n",
            "       [12, 15],\n",
            "       [13, 16],\n",
            "       [15, 18],\n",
            "       [16, 19],\n",
            "       [17, 20],\n",
            "       [17, 21],\n",
            "       [18, 19],\n",
            "       [20, 23],\n",
            "       [21, 24],\n",
            "       [22, 23],\n",
            "       [22, 24]]), 0)\n"
          ]
        }
      ],
      "source": [
        "# Look at first records of the data \n",
        "print(train[0])"
      ]
    },
    {
      "cell_type": "markdown",
      "metadata": {
        "id": "CNRkgHlk0NBM"
      },
      "source": [
        "## Data Up-Sampling\n"
      ]
    },
    {
      "cell_type": "code",
      "execution_count": 19,
      "metadata": {
        "colab": {
          "base_uri": "https://localhost:8080/"
        },
        "id": "aZynBbx-0wfE",
        "outputId": "f88d4c44-9824-434c-b7c1-88bb57f22f2b"
      },
      "outputs": [
        {
          "data": {
            "text/plain": [
              "(array([0, 1], dtype=object), array([23806,  1218]))"
            ]
          },
          "execution_count": 19,
          "metadata": {},
          "output_type": "execute_result"
        }
      ],
      "source": [
        "np.unique(np.array(train)[:,2],return_counts=True)"
      ]
    },
    {
      "cell_type": "code",
      "execution_count": 20,
      "metadata": {
        "id": "3q6plZxU0UY0"
      },
      "outputs": [],
      "source": [
        "train_df = pd.DataFrame(train, columns=['node','edge','label']) # convert train into DataFrame"
      ]
    },
    {
      "cell_type": "code",
      "execution_count": 21,
      "metadata": {
        "colab": {
          "base_uri": "https://localhost:8080/"
        },
        "id": "YRolmGWX1I2F",
        "outputId": "43a53a93-6b2a-4103-e622-95c6ac1c0fee"
      },
      "outputs": [
        {
          "name": "stdout",
          "output_type": "stream",
          "text": [
            "0    23806\n",
            "1     1218\n",
            "Name: label, dtype: int64\n"
          ]
        }
      ],
      "source": [
        "# print the count of 0,1 in the label column\n",
        "print(train_df['label'].value_counts())"
      ]
    },
    {
      "cell_type": "code",
      "execution_count": 22,
      "metadata": {
        "id": "hX1IwNO61Iy6"
      },
      "outputs": [],
      "source": [
        "class_0 = train_df[train_df['label'] == 0] # get all data that belong to negative class (label = 0) \n",
        "class_1 = train_df[train_df['label'] == 1] # get all data that belong to possitive class (label = 1) \n",
        "\n",
        "class_1 = resample(class_1, replace=True, n_samples=len(class_0), random_state=42)  # resample class_1\n",
        "upsampled_data = pd.concat([class_1, class_0])  # get upsampled data"
      ]
    },
    {
      "cell_type": "code",
      "execution_count": 23,
      "metadata": {
        "colab": {
          "base_uri": "https://localhost:8080/"
        },
        "id": "kjWflBGr2tEG",
        "outputId": "5e43ddfa-2b49-40ca-c86f-f8966c3f5790"
      },
      "outputs": [
        {
          "name": "stdout",
          "output_type": "stream",
          "text": [
            "1    23806\n",
            "0    23806\n",
            "Name: label, dtype: int64\n"
          ]
        }
      ],
      "source": [
        "# print the count of 0,1 in the label column after data up-sampling\n",
        "print(upsampled_data[\"label\"].value_counts()) "
      ]
    },
    {
      "cell_type": "code",
      "execution_count": 24,
      "metadata": {
        "id": "vUo-cWXY2s45"
      },
      "outputs": [],
      "source": [
        "# convert upsampled_data from DataFram to an array \n",
        "data_upsampled = upsampled_data.to_numpy()"
      ]
    },
    {
      "cell_type": "markdown",
      "metadata": {
        "id": "NDA2aqmjSGZB"
      },
      "source": [
        "## Splitting Data"
      ]
    },
    {
      "cell_type": "code",
      "execution_count": 25,
      "metadata": {
        "id": "e_xBLlNQ2A1h"
      },
      "outputs": [],
      "source": [
        "# split the train data\n",
        "# training_set, validation_set = train_test_split(train, test_size=0.15)\n",
        "\n",
        "# split the up-sampled data\n",
        "training_set, validation_set = train_test_split(data_upsampled, test_size=0.15)"
      ]
    },
    {
      "cell_type": "markdown",
      "metadata": {
        "id": "QE3epz7Rbi9y"
      },
      "source": [
        "# Visualizing/Inspecting a Sample"
      ]
    },
    {
      "cell_type": "code",
      "execution_count": 13,
      "metadata": {
        "id": "JkMQBCv7bZqm"
      },
      "outputs": [],
      "source": [
        "!pip install --quiet networkx\n",
        "import networkx as nx\n",
        "import matplotlib.pyplot as plt\n",
        "from matplotlib import cm\n",
        "colors = cm.rainbow(np.linspace(0, 1, 50))"
      ]
    },
    {
      "cell_type": "code",
      "execution_count": 14,
      "metadata": {
        "id": "z1zx-bxKbmhw"
      },
      "outputs": [],
      "source": [
        "def visualize(sample):\n",
        "    G=nx.Graph()\n",
        "    nodes = sample[0]\n",
        "    edges = sample[1]\n",
        "    \n",
        "    labeldict={}\n",
        "    node_color=[]\n",
        "    for i,n in enumerate(nodes):\n",
        "        G.add_node(i)\n",
        "        labeldict[i]=n\n",
        "        node_color.append(colors[hash(n)%len(colors)])\n",
        "\n",
        "    # a list of nodes:\n",
        "    for e in edges:\n",
        "        G.add_edge(e[0], e[1])\n",
        "        \n",
        "    nx.draw(G, labels=labeldict, with_labels = True, node_color = node_color)\n",
        "    plt.show()\n",
        "    \n",
        "    return G"
      ]
    },
    {
      "cell_type": "code",
      "execution_count": 15,
      "metadata": {
        "colab": {
          "base_uri": "https://localhost:8080/",
          "height": 337
        },
        "id": "LXcjNBj0bpS4",
        "outputId": "dbf3fc84-bd52-43b6-d0a0-d531e3a39ba2"
      },
      "outputs": [
        {
          "data": {
            "image/png": "[encoded data removed]",
            "text/plain": [
              "<Figure size 432x288 with 1 Axes>"
            ]
          },
          "metadata": {},
          "output_type": "display_data"
        },
        {
          "data": {
            "text/plain": [
              "<networkx.classes.graph.Graph at 0x7f78d4d29d90>"
            ]
          },
          "execution_count": 15,
          "metadata": {},
          "output_type": "execute_result"
        }
      ],
      "source": [
        "plt.clf()\n",
        "visualize(training_set[0])"
      ]
    },
    {
      "cell_type": "markdown",
      "metadata": {
        "id": "-qnuEZ4GcDxd"
      },
      "source": [
        "# Data Preprocessing\n"
      ]
    },
    {
      "cell_type": "code",
      "execution_count": 26,
      "metadata": {
        "id": "Boc6lvh9btcV"
      },
      "outputs": [],
      "source": [
        "from tensorflow.keras.preprocessing.text import Tokenizer\n",
        "\n",
        "max_vocab = 500\n",
        "max_len = 100\n",
        "\n",
        "\n",
        "# build vocabulary from training set\n",
        "all_nodes = [s[0] for s in training_set]\n",
        "tokenizer = Tokenizer(num_words=max_vocab)\n",
        "tokenizer.fit_on_texts(all_nodes)"
      ]
    },
    {
      "cell_type": "code",
      "execution_count": 27,
      "metadata": {
        "id": "3nM8Dma1cLBL"
      },
      "outputs": [],
      "source": [
        "from tensorflow.keras.preprocessing.sequence import pad_sequences\n",
        "import random\n",
        "random.seed(0)\n",
        "\n",
        "def prepare_single_batch(samples):\n",
        "    sample_nodes = [s[0] for s in samples]\n",
        "    sample_nodes = tokenizer.texts_to_sequences(sample_nodes)\n",
        "    sample_nodes = pad_sequences(sample_nodes, padding='post')\n",
        "    max_nodes_len = np.shape(sample_nodes)[1]\n",
        "    edges = [s[1]+i*max_nodes_len for i,s in enumerate(samples)]\n",
        "    edges = [e for e in edges if len(e) > 0]\n",
        "    node_to_graph = [[i]*max_nodes_len for i in range(len(samples))]\n",
        "    \n",
        "    all_nodes = np.reshape(sample_nodes, -1)\n",
        "    all_edges = np.concatenate(edges)\n",
        "\n",
        "    node_to_graph = np.reshape(node_to_graph, -1)\n",
        "    return {\n",
        "        'data': all_nodes,\n",
        "        'edges': all_edges,\n",
        "        'node2grah': node_to_graph,\n",
        "    }, np.array([s[2] for s in samples])\n",
        "\n"
      ]
    },
    {
      "cell_type": "code",
      "execution_count": 28,
      "metadata": {
        "id": "p0ilot1ipV3B"
      },
      "outputs": [],
      "source": [
        "def gen_batch(dataset, batch_size=16, repeat=False, shuffle=True):\n",
        "    while True:\n",
        "        dataset = list(dataset)\n",
        "        if shuffle:\n",
        "            random.shuffle(dataset)\n",
        "        l = len(dataset)\n",
        "        for ndx in range(0, l, batch_size):\n",
        "            batch_samples = dataset[ndx:min(ndx + batch_size, l)]\n",
        "            yield prepare_single_batch(batch_samples)\n",
        "        if not repeat:\n",
        "            break"
      ]
    },
    {
      "cell_type": "code",
      "execution_count": 29,
      "metadata": {
        "colab": {
          "base_uri": "https://localhost:8080/"
        },
        "id": "gYVK4dj3cQsg",
        "outputId": "f7d9cdc8-c210-4884-a772-629ead95dca7"
      },
      "outputs": [
        {
          "name": "stdout",
          "output_type": "stream",
          "text": [
            "data\n",
            "[2 2 3 3 1 1 1 1 1 1 1 1 1 1 1 1 1 1 1 1 1 1 1 0 0 0 0 0 0 0 0 0 0 0 0 0 0\n",
            " 0 0 0 2 2 3 3 3 1 1 1 1 1 1 1 1 1 0 0 0 0 0 0 0 0 0 0 0 0 0 0 0 0 0 0 0 0\n",
            " 0 0 0 0 0 0 2 2 2 2 2 2 2 2 2 3 1 1 1 1 1 1 1 1 1 1 1 1 1 1 1 1 1 1 1 1 1\n",
            " 1 1 1 1 1 1 1 1 0 2 2 2 2 2 2 2 2 2 3 1 1 1 1 1 1 1 1 1 1 1 1 1 1 1 1 1 1\n",
            " 1 1 1 1 1 1 1 1 1 1 1 1]\n",
            "edges\n",
            "[[  0   7]\n",
            " [  1   9]\n",
            " [  2   5]\n",
            " [  2  11]\n",
            " [  3   8]\n",
            " [  3   9]\n",
            " [  4   5]\n",
            " [  4   6]\n",
            " [  4   9]\n",
            " [  5   7]\n",
            " [  6   8]\n",
            " [  6  12]\n",
            " [  7  10]\n",
            " [  8  14]\n",
            " [ 10  11]\n",
            " [ 10  15]\n",
            " [ 11  16]\n",
            " [ 12  13]\n",
            " [ 13  17]\n",
            " [ 13  18]\n",
            " [ 14  17]\n",
            " [ 15  19]\n",
            " [ 16  20]\n",
            " [ 18  21]\n",
            " [ 18  22]\n",
            " [ 19  20]\n",
            " [ 40  42]\n",
            " [ 41  46]\n",
            " [ 42  45]\n",
            " [ 42  46]\n",
            " [ 43  44]\n",
            " [ 43  45]\n",
            " [ 44  46]\n",
            " [ 45  47]\n",
            " [ 47  48]\n",
            " [ 48  49]\n",
            " [ 48  50]\n",
            " [ 49  51]\n",
            " [ 50  52]\n",
            " [ 51  53]\n",
            " [ 52  53]\n",
            " [ 80  96]\n",
            " [ 80  97]\n",
            " [ 81  96]\n",
            " [ 82 101]\n",
            " [ 82 109]\n",
            " [ 83 102]\n",
            " [ 83 109]\n",
            " [ 84 106]\n",
            " [ 84 116]\n",
            " [ 85 107]\n",
            " [ 85 117]\n",
            " [ 86 108]\n",
            " [ 87 115]\n",
            " [ 87 118]\n",
            " [ 88 115]\n",
            " [ 93  89]\n",
            " [ 89 105]\n",
            " [ 90  91]\n",
            " [ 90  92]\n",
            " [ 90  96]\n",
            " [ 91  93]\n",
            " [ 91  97]\n",
            " [ 92  94]\n",
            " [ 98  92]\n",
            " [ 93  95]\n",
            " [ 94  95]\n",
            " [ 94  99]\n",
            " [ 95 100]\n",
            " [ 98 103]\n",
            " [ 98 104]\n",
            " [ 99 101]\n",
            " [100 102]\n",
            " [101 102]\n",
            " [103 106]\n",
            " [104 107]\n",
            " [105 110]\n",
            " [105 111]\n",
            " [106 108]\n",
            " [107 108]\n",
            " [110 112]\n",
            " [111 113]\n",
            " [112 114]\n",
            " [112 115]\n",
            " [113 114]\n",
            " [120 134]\n",
            " [120 153]\n",
            " [121 136]\n",
            " [121 154]\n",
            " [122 137]\n",
            " [122 155]\n",
            " [123 143]\n",
            " [124 146]\n",
            " [124 156]\n",
            " [125 145]\n",
            " [126 148]\n",
            " [126 157]\n",
            " [127 149]\n",
            " [127 158]\n",
            " [128 150]\n",
            " [128 159]\n",
            " [129 135]\n",
            " [129 143]\n",
            " [130 131]\n",
            " [130 133]\n",
            " [130 134]\n",
            " [131 132]\n",
            " [131 141]\n",
            " [132 135]\n",
            " [132 142]\n",
            " [133 138]\n",
            " [133 139]\n",
            " [134 136]\n",
            " [135 140]\n",
            " [136 137]\n",
            " [137 138]\n",
            " [139 140]\n",
            " [141 147]\n",
            " [142 145]\n",
            " [143 144]\n",
            " [144 151]\n",
            " [144 152]\n",
            " [145 146]\n",
            " [146 147]\n",
            " [148 149]\n",
            " [148 150]\n",
            " [149 151]\n",
            " [150 152]]\n",
            "node2grah\n",
            "[0 0 0 0 0 0 0 0 0 0 0 0 0 0 0 0 0 0 0 0 0 0 0 0 0 0 0 0 0 0 0 0 0 0 0 0 0\n",
            " 0 0 0 1 1 1 1 1 1 1 1 1 1 1 1 1 1 1 1 1 1 1 1 1 1 1 1 1 1 1 1 1 1 1 1 1 1\n",
            " 1 1 1 1 1 1 2 2 2 2 2 2 2 2 2 2 2 2 2 2 2 2 2 2 2 2 2 2 2 2 2 2 2 2 2 2 2\n",
            " 2 2 2 2 2 2 2 2 2 3 3 3 3 3 3 3 3 3 3 3 3 3 3 3 3 3 3 3 3 3 3 3 3 3 3 3 3\n",
            " 3 3 3 3 3 3 3 3 3 3 3 3]\n",
            "label [0 0 1 1]\n"
          ]
        }
      ],
      "source": [
        "# showing one batch:\n",
        "for train_batch in gen_batch(training_set, batch_size=4):\n",
        "    for k,v in train_batch[0].items():\n",
        "        print(k)\n",
        "        print(v)\n",
        "        pass\n",
        "    print('label', train_batch[1])\n",
        "    break"
      ]
    },
    {
      "cell_type": "markdown",
      "metadata": {
        "id": "Q9uCc9tKkLdn"
      },
      "source": [
        "# Saving Prediction Result\n"
      ]
    },
    {
      "cell_type": "code",
      "execution_count": 30,
      "metadata": {
        "id": "WmgD4S2WkTiQ"
      },
      "outputs": [],
      "source": [
        "# define function to save the csv file of the result after each trial\n",
        "def saveResult(y_pred, fileName):\n",
        "  submission = pd.DataFrame({'label': y_pred})\n",
        "  submission.index.name = 'id'\n",
        "  \n",
        "  submission.to_csv(fileName)"
      ]
    },
    {
      "cell_type": "markdown",
      "metadata": {
        "id": "l24YEFKBA00d"
      },
      "source": [
        "# Building Learning models"
      ]
    },
    {
      "cell_type": "markdown",
      "metadata": {
        "id": "OEVh6PirYiA-"
      },
      "source": [
        "## Frist trial"
      ]
    },
    {
      "cell_type": "markdown",
      "metadata": {
        "id": "Z-oDQ8b77e-Q"
      },
      "source": [
        "thoughts and observations for trial 0, plan for trial 1: \n",
        "\n",
        "<br/>\n",
        "\n",
        "I used **Graph Neural Network** as this task is a bioassay task for anticancer activity prediction, where each chemical compound is represented as a graph.\n",
        "\n",
        "I used this **Graph Neural Network** with the data that consider very unbalanced **without apply the Up-Sampling** on it\n",
        "\n",
        "After declaring the GNNInput, I defined the hyperparameters for GNN layer by loading first the **defualt hyperparameters of GNN** and set **`hidden_dim` to be 32** which represent the size of the output of all message passing layers\n",
        "\n",
        "then adding Graph Neural Network layer with the defined hyperparameters and calculating segmented mean based on segment_ids\n",
        "\n",
        "Finally, define the output layer of the model then building and compiling the model using **BinaryCrossentropy** for loss and the **AUC metric** to measure the performance of the network.\n",
        "\n",
        "<br/>\n",
        "\n",
        "While fitting the model I specified the value of batch size to be 16 and the value of epochs to be 10 and used the `validation_set` to validate our model\n",
        "\n",
        "<br/>\n",
        "\n",
        "From the result, we can say that unbalanced data affect the model accuracy and produce a low results \n",
        "\n"
      ]
    },
    {
      "cell_type": "markdown",
      "metadata": {
        "id": "ruVRsMvcZjDD"
      },
      "source": [
        "### Building the model"
      ]
    },
    {
      "cell_type": "code",
      "execution_count": 16,
      "metadata": {
        "colab": {
          "base_uri": "https://localhost:8080/"
        },
        "id": "_QkkRmqYR1Zm",
        "outputId": "a5ff4bcc-2d4d-4e9c-ae37-bdc5ac9cfa48"
      },
      "outputs": [
        {
          "name": "stdout",
          "output_type": "stream",
          "text": [
            "gnn_out KerasTensor(type_spec=TensorSpec(shape=(None, 32), dtype=tf.float32, name=None), name='gnn/StatefulPartitionedCall:0', description=\"created by layer 'gnn'\")\n",
            "mean: KerasTensor(type_spec=TensorSpec(shape=(None, 32), dtype=tf.float32, name=None), name='tf.math.segment_mean/SegmentMean:0', description=\"created by layer 'tf.math.segment_mean'\")\n",
            "pred: KerasTensor(type_spec=TensorSpec(shape=(None, 1), dtype=tf.float32, name=None), name='dense/Sigmoid:0', description=\"created by layer 'dense'\")\n",
            "Model: \"model\"\n",
            "__________________________________________________________________________________________________\n",
            " Layer (type)                   Output Shape         Param #     Connected to                     \n",
            "==================================================================================================\n",
            " input_3 (InputLayer)           [(None,)]            0           []                               \n",
            "                                                                                                  \n",
            " input_1 (InputLayer)           [(None,)]            0           []                               \n",
            "                                                                                                  \n",
            " tf.math.reduce_max (TFOpLambda  ()                  0           ['input_3[0][0]']                \n",
            " )                                                                                                \n",
            "                                                                                                  \n",
            " embedding (Embedding)          (None, 20)           10000       ['input_1[0][0]']                \n",
            "                                                                                                  \n",
            " input_2 (InputLayer)           [(None, 2)]          0           []                               \n",
            "                                                                                                  \n",
            " tf.__operators__.add (TFOpLamb  ()                  0           ['tf.math.reduce_max[0][0]']     \n",
            " da)                                                                                              \n",
            "                                                                                                  \n",
            " gnn (GNN)                      (None, 32)           22464       ['embedding[0][0]',              \n",
            "                                                                  'input_2[0][0]',                \n",
            "                                                                  'input_3[0][0]',                \n",
            "                                                                  'tf.__operators__.add[0][0]']   \n",
            "                                                                                                  \n",
            " tf.math.segment_mean (TFOpLamb  (None, 32)          0           ['gnn[0][0]',                    \n",
            " da)                                                              'input_3[0][0]']                \n",
            "                                                                                                  \n",
            " dense (Dense)                  (None, 1)            33          ['tf.math.segment_mean[0][0]']   \n",
            "                                                                                                  \n",
            "==================================================================================================\n",
            "Total params: 32,497\n",
            "Trainable params: 32,497\n",
            "Non-trainable params: 0\n",
            "__________________________________________________________________________________________________\n"
          ]
        }
      ],
      "source": [
        "data = keras.Input(batch_shape=(None,)) #Input layer for nodes (tokenized text data) \n",
        "\n",
        "# the first dim is different to the previous one. it is the total number of edges in this batch\n",
        "edge = keras.Input(batch_shape=(None, 2), dtype=tf.int32)\n",
        "node2graph = keras.Input(batch_shape=(None,), dtype=tf.int32)\n",
        "embeded = Embedding(tokenizer.num_words, 20)(data)\n",
        "\n",
        "# number of graphs (number of samples)\n",
        "num_graph = tf.reduce_max(node2graph)+1\n",
        "\n",
        "# declare the GNNInput that take the features of node, the edge, the created list 'node2graph', and number of graphs (number of samples)\n",
        "gnn_input = GNNInput(\n",
        "    node_features = embeded,\n",
        "    adjacency_lists = (edge,),\n",
        "    node_to_graph_map = node2graph, \n",
        "    num_graphs = num_graph,\n",
        ")\n",
        "\n",
        "\n",
        "# configure the hyperparameters of GNN layers\n",
        "# https://github.com/microsoft/tf2-gnn/blob/master/tf2_gnn/layers/gnn.py\n",
        "# \n",
        "# frist load the defualt hyperparameters\n",
        "params = GNN.get_default_hyperparameters()\n",
        "# sets the size of the output of all message passing layers\n",
        "params[\"hidden_dim\"] = 32\n",
        "\n",
        "# Graph Neural Network layer with defined hyperparameters\n",
        "gnn_layer = GNN(params)\n",
        "gnn_out = gnn_layer(gnn_input)\n",
        "\n",
        "print('gnn_out', gnn_out)\n",
        "\n",
        "\n",
        "# Computes the mean along segments of a tensor\n",
        "# https://www.tensorflow.org/api_docs/python/tf/math/segment_mean\n",
        "avg = segment_mean(\n",
        "    data = gnn_out,\n",
        "    segment_ids = node2graph\n",
        ")\n",
        "print('mean:', avg)\n",
        "\n",
        "# Define the out put layer of the model\n",
        "pred = Dense(1, activation='sigmoid')(avg)\n",
        "print('pred:', pred)\n",
        "\n",
        "\n",
        "# Creating the model\n",
        "model = Model(\n",
        "    inputs = {\n",
        "        'data': data,\n",
        "        'edges': edge,\n",
        "        'node2grah': node2graph,\n",
        "    },\n",
        "    outputs = pred\n",
        ")\n",
        "# printing summary of the model\n",
        "model.summary()"
      ]
    },
    {
      "cell_type": "code",
      "execution_count": 17,
      "metadata": {
        "id": "7rvu6CJg5yqY"
      },
      "outputs": [],
      "source": [
        "model.compile(\n",
        "    loss='BinaryCrossentropy',\n",
        "    metrics=['AUC']\n",
        ")"
      ]
    },
    {
      "cell_type": "markdown",
      "metadata": {
        "id": "UB-r6sfjBYh9"
      },
      "source": [
        "### Model Training\n",
        "\n"
      ]
    },
    {
      "cell_type": "code",
      "execution_count": 18,
      "metadata": {
        "colab": {
          "base_uri": "https://localhost:8080/"
        },
        "id": "lyVFF4LTR1Zm",
        "outputId": "94c949ba-5019-424c-f11c-0a7e7de10874"
      },
      "outputs": [
        {
          "name": "stdout",
          "output_type": "stream",
          "text": [
            "Epoch 1/10\n",
            "1330/1330 [==============================] - 23s 15ms/step - loss: 0.2236 - auc: 0.5050 - val_loss: 0.1928 - val_auc: 0.6526\n",
            "Epoch 2/10\n",
            "1330/1330 [==============================] - 27s 20ms/step - loss: 0.1939 - auc: 0.6393 - val_loss: 0.1865 - val_auc: 0.6753\n",
            "Epoch 3/10\n",
            "1330/1330 [==============================] - 24s 18ms/step - loss: 0.1900 - auc: 0.6620 - val_loss: 0.1877 - val_auc: 0.6994\n",
            "Epoch 4/10\n",
            "1330/1330 [==============================] - 20s 15ms/step - loss: 0.1889 - auc: 0.6780 - val_loss: 0.1829 - val_auc: 0.7132\n",
            "Epoch 5/10\n",
            "1330/1330 [==============================] - 20s 15ms/step - loss: 0.1877 - auc: 0.6771 - val_loss: 0.1852 - val_auc: 0.7173\n",
            "Epoch 6/10\n",
            "1330/1330 [==============================] - 22s 17ms/step - loss: 0.1861 - auc: 0.6764 - val_loss: 0.2086 - val_auc: 0.7033\n",
            "Epoch 7/10\n",
            "1330/1330 [==============================] - 34s 26ms/step - loss: 0.1860 - auc: 0.6832 - val_loss: 0.1837 - val_auc: 0.7184\n",
            "Epoch 8/10\n",
            "1330/1330 [==============================] - 20s 15ms/step - loss: 0.1850 - auc: 0.6786 - val_loss: 0.1767 - val_auc: 0.7169\n",
            "Epoch 9/10\n",
            "1330/1330 [==============================] - 20s 15ms/step - loss: 0.1846 - auc: 0.6795 - val_loss: 0.1924 - val_auc: 0.6959\n",
            "Epoch 10/10\n",
            "1330/1330 [==============================] - 20s 15ms/step - loss: 0.1839 - auc: 0.6868 - val_loss: 0.1830 - val_auc: 0.7217\n"
          ]
        },
        {
          "data": {
            "text/plain": [
              "<keras.callbacks.History at 0x7f3dd0e668d0>"
            ]
          },
          "execution_count": 18,
          "metadata": {},
          "output_type": "execute_result"
        }
      ],
      "source": [
        "batch_size = 16\n",
        "\n",
        "# calculate steps_per_epoch for training and validation data\n",
        "num_batchs = math.ceil(len(training_set) / batch_size)\n",
        "num_batchs_validation = math.ceil(len(validation_set) / batch_size)\n",
        "\n",
        "# training the model for 5 epochs\n",
        "model.fit(\n",
        "    gen_batch(\n",
        "        training_set, batch_size=batch_size, repeat=True\n",
        "    ),\n",
        "    steps_per_epoch = num_batchs,\n",
        "    epochs = 10,\n",
        "    validation_data = gen_batch(\n",
        "        validation_set, batch_size=16, repeat=True\n",
        "    ),\n",
        "    validation_steps = num_batchs_validation,\n",
        ")"
      ]
    },
    {
      "cell_type": "markdown",
      "metadata": {
        "id": "4XoapvMgZ64I"
      },
      "source": [
        "### Predition & Saving results"
      ]
    },
    {
      "cell_type": "code",
      "execution_count": null,
      "metadata": {
        "id": "9TI_QxyDaDyx"
      },
      "outputs": [],
      "source": [
        "y_pred = model.predict(\n",
        "    gen_batch(test, batch_size=16, shuffle=False)\n",
        ")\n",
        "y_pred = np.reshape(y_pred, -1)\n"
      ]
    },
    {
      "cell_type": "code",
      "execution_count": null,
      "metadata": {
        "id": "3Yop1fc3cX1d"
      },
      "outputs": [],
      "source": [
        "saveResult(y_pred, 'sample_submission_trial1.csv')"
      ]
    },
    {
      "cell_type": "markdown",
      "metadata": {
        "id": "IOrQOhNq5704"
      },
      "source": [
        "## Second trial"
      ]
    },
    {
      "cell_type": "markdown",
      "metadata": {
        "id": "GUEpMxxf7ijJ"
      },
      "source": [
        "thoughts and observations for trial 1, plan for trial 2:\n",
        "\n",
        "<br/>\n",
        "\n",
        "In this trial I used **the previous model with same configuration after applying the Up-Sampling technique** to the training dataset which was very unbalanced (by up-sample the positive class samples), in order to compare the results before and after Up-Sampling the data\n",
        "\n",
        "From the result, we can say that this model is fitting the data well and produce better result than applying the model on train data as it's (before Up-sampling)\n",
        "\n",
        "Based on these results, all the following trials will use the Up-Sampled data as it produce better results\n"
      ]
    },
    {
      "cell_type": "markdown",
      "metadata": {
        "id": "tVaOK0Zo571G"
      },
      "source": [
        "### Model Training\n",
        "\n"
      ]
    },
    {
      "cell_type": "code",
      "execution_count": 31,
      "metadata": {
        "colab": {
          "base_uri": "https://localhost:8080/"
        },
        "id": "WnhExLzj571G",
        "outputId": "39b20cc6-fc28-4937-a643-fbcb16229148"
      },
      "outputs": [
        {
          "name": "stdout",
          "output_type": "stream",
          "text": [
            "Epoch 1/10\n",
            "2530/2530 [==============================] - 44s 17ms/step - loss: 0.6084 - auc: 0.7291 - val_loss: 0.5745 - val_auc: 0.7762\n",
            "Epoch 2/10\n",
            "2530/2530 [==============================] - 44s 17ms/step - loss: 0.5726 - auc: 0.7719 - val_loss: 0.5661 - val_auc: 0.7946\n",
            "Epoch 3/10\n",
            "2530/2530 [==============================] - 43s 17ms/step - loss: 0.5590 - auc: 0.7870 - val_loss: 0.5501 - val_auc: 0.8054\n",
            "Epoch 4/10\n",
            "2530/2530 [==============================] - 43s 17ms/step - loss: 0.5513 - auc: 0.7959 - val_loss: 0.5503 - val_auc: 0.8008\n",
            "Epoch 5/10\n",
            "2530/2530 [==============================] - 43s 17ms/step - loss: 0.5432 - auc: 0.8036 - val_loss: 0.5384 - val_auc: 0.8136\n",
            "Epoch 6/10\n",
            "2530/2530 [==============================] - 43s 17ms/step - loss: 0.5376 - auc: 0.8085 - val_loss: 0.5342 - val_auc: 0.8169\n",
            "Epoch 7/10\n",
            "2530/2530 [==============================] - 43s 17ms/step - loss: 0.5331 - auc: 0.8129 - val_loss: 0.5175 - val_auc: 0.8270\n",
            "Epoch 8/10\n",
            "2530/2530 [==============================] - 43s 17ms/step - loss: 0.5285 - auc: 0.8168 - val_loss: 0.5162 - val_auc: 0.8290\n",
            "Epoch 9/10\n",
            "2530/2530 [==============================] - 43s 17ms/step - loss: 0.5250 - auc: 0.8202 - val_loss: 0.5533 - val_auc: 0.8180\n",
            "Epoch 10/10\n",
            "2530/2530 [==============================] - 43s 17ms/step - loss: 0.5214 - auc: 0.8227 - val_loss: 0.5180 - val_auc: 0.8267\n"
          ]
        },
        {
          "data": {
            "text/plain": [
              "<keras.callbacks.History at 0x7f3dd12dfb50>"
            ]
          },
          "execution_count": 31,
          "metadata": {},
          "output_type": "execute_result"
        }
      ],
      "source": [
        "batch_size = 16\n",
        "\n",
        "# calculate steps_per_epoch for training and validation data\n",
        "num_batchs = math.ceil(len(training_set) / batch_size)\n",
        "num_batchs_validation = math.ceil(len(validation_set) / batch_size)\n",
        "\n",
        "# training the model for 5 epochs\n",
        "model.fit(\n",
        "    gen_batch(\n",
        "        training_set, batch_size=batch_size, repeat=True\n",
        "    ),\n",
        "    steps_per_epoch = num_batchs,\n",
        "    epochs = 10,\n",
        "    validation_data = gen_batch(\n",
        "        validation_set, batch_size=16, repeat=True\n",
        "    ),\n",
        "    validation_steps = num_batchs_validation,\n",
        ")"
      ]
    },
    {
      "cell_type": "markdown",
      "metadata": {
        "id": "vzOfMvms571G"
      },
      "source": [
        "### Predition & Saving results"
      ]
    },
    {
      "cell_type": "code",
      "execution_count": 32,
      "metadata": {
        "id": "pKLELwUY571H"
      },
      "outputs": [],
      "source": [
        "y_pred = model.predict(\n",
        "    gen_batch(test, batch_size=16, shuffle=False)\n",
        ")\n",
        "y_pred = np.reshape(y_pred, -1)\n"
      ]
    },
    {
      "cell_type": "code",
      "execution_count": 33,
      "metadata": {
        "id": "pTgnpHAH571H"
      },
      "outputs": [],
      "source": [
        "saveResult(y_pred, 'sample_submission_trial2.csv')"
      ]
    },
    {
      "cell_type": "markdown",
      "metadata": {
        "id": "Wo6s0H6T_8I9"
      },
      "source": [
        "## Third trial"
      ]
    },
    {
      "cell_type": "markdown",
      "metadata": {
        "id": "0ERPTuY2H_6r"
      },
      "source": [
        "thoughts and observations for trial 2, plan for trial 3: \n",
        "\n",
        "<br/>\n",
        "\n",
        "I used **Graph Neural Network** as this task is a bioassay task for anticancer activity prediction, where each chemical compound is represented as a graph.\n",
        "\n",
        "I used this Graph Neural Network **with the Up-Sampled data**, in addition to applying one of the **GCN aggregation mechanisms** by tuning the message_passing mechanisms and **configure the message passing style to be GGNN**\n",
        "\n",
        "After declaring the GNNInput, I defined the hyperparameters for GNN layer by loading the **defualt hyperparameters of GNN** and set **`hidden_dim` to be 32** which represent the size of the output of all message passing layers, and **set `message_calculation_class` parameter to be GGNN**\n",
        "\n",
        "then adding Graph Neural Network layer with the defined hyperparameters and calculating segmented mean based on segment_ids\n",
        "\n",
        "Finally, define the output layer of the model then building and compiling the model using **BinaryCrossentropy** for loss and the **AUC metric** to measure the performance of the network.\n",
        "\n",
        "<br/>\n",
        "\n",
        "While fitting the model I specified the value of batch size to be 16 and the value of epochs to be 10 and used the `validation_set` to validate our model\n",
        "\n",
        "<br/>\n",
        "\n",
        "From the result, we can say that the results is much better than using the model without applying GCN aggregation mechanisms\n",
        "\n"
      ]
    },
    {
      "cell_type": "markdown",
      "metadata": {
        "id": "kFypzY9D_8JK"
      },
      "source": [
        "### Building the model"
      ]
    },
    {
      "cell_type": "code",
      "execution_count": 34,
      "metadata": {
        "colab": {
          "base_uri": "https://localhost:8080/"
        },
        "id": "gYyAhJVG_8JK",
        "outputId": "a2e28647-1f19-444e-8c5e-7bb4dd514a41"
      },
      "outputs": [
        {
          "name": "stdout",
          "output_type": "stream",
          "text": [
            "Model: \"model_1\"\n",
            "__________________________________________________________________________________________________\n",
            " Layer (type)                   Output Shape         Param #     Connected to                     \n",
            "==================================================================================================\n",
            " input_6 (InputLayer)           [(None,)]            0           []                               \n",
            "                                                                                                  \n",
            " input_4 (InputLayer)           [(None,)]            0           []                               \n",
            "                                                                                                  \n",
            " tf.math.reduce_max_1 (TFOpLamb  ()                  0           ['input_6[0][0]']                \n",
            " da)                                                                                              \n",
            "                                                                                                  \n",
            " embedding_1 (Embedding)        (None, 20)           10000       ['input_4[0][0]']                \n",
            "                                                                                                  \n",
            " input_5 (InputLayer)           [(None, 2)]          0           []                               \n",
            "                                                                                                  \n",
            " tf.__operators__.add_1 (TFOpLa  ()                  0           ['tf.math.reduce_max_1[0][0]']   \n",
            " mbda)                                                                                            \n",
            "                                                                                                  \n",
            " gnn_1 (GNN)                    (None, 32)           47808       ['embedding_1[0][0]',            \n",
            "                                                                  'input_5[0][0]',                \n",
            "                                                                  'input_6[0][0]',                \n",
            "                                                                  'tf.__operators__.add_1[0][0]'] \n",
            "                                                                                                  \n",
            " tf.math.segment_mean_1 (TFOpLa  (None, 32)          0           ['gnn_1[0][0]',                  \n",
            " mbda)                                                            'input_6[0][0]']                \n",
            "                                                                                                  \n",
            " dense_1 (Dense)                (None, 1)            33          ['tf.math.segment_mean_1[0][0]'] \n",
            "                                                                                                  \n",
            "==================================================================================================\n",
            "Total params: 57,841\n",
            "Trainable params: 57,841\n",
            "Non-trainable params: 0\n",
            "__________________________________________________________________________________________________\n"
          ]
        }
      ],
      "source": [
        "data = keras.Input(batch_shape=(None,))\n",
        "\n",
        "# the first dim is different to the previous one. it is the total number of edges in this batch\n",
        "edge = keras.Input(batch_shape=(None, 2), dtype=tf.int32)\n",
        "node2graph = keras.Input(batch_shape=(None,), dtype=tf.int32)\n",
        "embeded = Embedding(tokenizer.num_words, 20)(data)\n",
        "\n",
        "# number of graphs (number of samples)\n",
        "num_graph = tf.reduce_max(node2graph)+1\n",
        "\n",
        "# declare the GNNInput that take the features of node, the edge, the created list 'node2graph', and number of graphs (number of samples)\n",
        "gnn_input = GNNInput(\n",
        "    node_features=embeded,\n",
        "    adjacency_lists=(edge,),\n",
        "    node_to_graph_map=node2graph, \n",
        "    num_graphs=num_graph,\n",
        ")\n",
        "\n",
        "\n",
        "# configure the hyperparameters of GNN layers\n",
        "# https://github.com/microsoft/tf2-gnn/blob/master/tf2_gnn/layers/gnn.py\n",
        "# \n",
        "# frist load the defualt hyperparameters\n",
        "params = GNN.get_default_hyperparameters()\n",
        "# sets the size of the output of all message passing layers\n",
        "params[\"hidden_dim\"] = 32\n",
        "# configures the message passing style to be GGNN (Gated Graph Neural Networks)\n",
        "params['message_calculation_class'] = 'GGNN'\n",
        "\n",
        "# Implements a deep Graph Neural Network\n",
        "gnn_layer = GNN(params)\n",
        "gnn_out = gnn_layer(gnn_input)\n",
        "\n",
        "\n",
        "\n",
        "# Computes the mean along segments of a tensor\n",
        "avg = segment_mean(\n",
        "    data = gnn_out,\n",
        "    segment_ids = node2graph\n",
        ")\n",
        "\n",
        "# Define the out put layer of the model\n",
        "pred = Dense(1, activation='sigmoid')(avg)\n",
        "\n",
        "\n",
        "# Creating the model\n",
        "model = Model(\n",
        "    inputs={\n",
        "        'data': data,\n",
        "        'edges': edge,\n",
        "        'node2grah': node2graph,\n",
        "    },\n",
        "    outputs = pred\n",
        ")\n",
        "model.summary()"
      ]
    },
    {
      "cell_type": "code",
      "execution_count": 35,
      "metadata": {
        "id": "igjBXr6D_8JL"
      },
      "outputs": [],
      "source": [
        "model.compile(\n",
        "    loss='BinaryCrossentropy',\n",
        "    metrics=['AUC']\n",
        ")"
      ]
    },
    {
      "cell_type": "markdown",
      "metadata": {
        "id": "e7MdVauh_8JL"
      },
      "source": [
        "### Model Training\n",
        "\n"
      ]
    },
    {
      "cell_type": "code",
      "execution_count": 36,
      "metadata": {
        "colab": {
          "base_uri": "https://localhost:8080/"
        },
        "id": "h3pBoRCr_8JM",
        "outputId": "78e832f9-540d-44a5-a69b-a77f231d5043"
      },
      "outputs": [
        {
          "name": "stdout",
          "output_type": "stream",
          "text": [
            "Epoch 1/10\n",
            "2530/2530 [==============================] - 90s 34ms/step - loss: 0.6197 - auc: 0.7093 - val_loss: 0.5731 - val_auc: 0.7677\n",
            "Epoch 2/10\n",
            "2530/2530 [==============================] - 75s 30ms/step - loss: 0.5696 - auc: 0.7694 - val_loss: 0.5404 - val_auc: 0.8078\n",
            "Epoch 3/10\n",
            "2530/2530 [==============================] - 70s 28ms/step - loss: 0.5292 - auc: 0.8128 - val_loss: 0.4993 - val_auc: 0.8441\n",
            "Epoch 4/10\n",
            "2530/2530 [==============================] - 69s 27ms/step - loss: 0.4912 - auc: 0.8431 - val_loss: 0.4789 - val_auc: 0.8535\n",
            "Epoch 5/10\n",
            "2530/2530 [==============================] - 70s 28ms/step - loss: 0.4662 - auc: 0.8604 - val_loss: 0.4501 - val_auc: 0.8748\n",
            "Epoch 6/10\n",
            "2530/2530 [==============================] - 70s 28ms/step - loss: 0.4416 - auc: 0.8768 - val_loss: 0.4204 - val_auc: 0.8906\n",
            "Epoch 7/10\n",
            "2530/2530 [==============================] - 68s 27ms/step - loss: 0.4219 - auc: 0.8882 - val_loss: 0.4417 - val_auc: 0.8868\n",
            "Epoch 8/10\n",
            "2530/2530 [==============================] - 73s 29ms/step - loss: 0.4066 - auc: 0.8963 - val_loss: 0.3926 - val_auc: 0.9050\n",
            "Epoch 9/10\n",
            "2530/2530 [==============================] - 74s 29ms/step - loss: 0.3914 - auc: 0.9045 - val_loss: 0.3693 - val_auc: 0.9158\n",
            "Epoch 10/10\n",
            "2530/2530 [==============================] - 69s 27ms/step - loss: 0.3751 - auc: 0.9124 - val_loss: 0.3658 - val_auc: 0.9279\n"
          ]
        },
        {
          "data": {
            "text/plain": [
              "<keras.callbacks.History at 0x7f3dcbeb9c50>"
            ]
          },
          "execution_count": 36,
          "metadata": {},
          "output_type": "execute_result"
        }
      ],
      "source": [
        "batch_size = 16\n",
        "\n",
        "# calculate steps_per_epoch for training and validation data\n",
        "num_batchs = math.ceil(len(training_set) / batch_size)\n",
        "num_batchs_validation = math.ceil(len(validation_set) / batch_size)\n",
        "\n",
        "# training the model for 5 epochs\n",
        "model.fit(\n",
        "    gen_batch(\n",
        "        training_set, batch_size=batch_size, repeat=True\n",
        "    ),\n",
        "    steps_per_epoch = num_batchs,\n",
        "    epochs = 10,\n",
        "    validation_data = gen_batch(\n",
        "        validation_set, batch_size=16, repeat=True\n",
        "    ),\n",
        "    validation_steps = num_batchs_validation,\n",
        ")"
      ]
    },
    {
      "cell_type": "markdown",
      "metadata": {
        "id": "sY2D51XQ_8JM"
      },
      "source": [
        "### Predition & Saving results"
      ]
    },
    {
      "cell_type": "code",
      "execution_count": 37,
      "metadata": {
        "id": "S2MDGKkt_8JM"
      },
      "outputs": [],
      "source": [
        "y_pred = model.predict(\n",
        "    gen_batch(test, batch_size=16, shuffle=False)\n",
        ")\n",
        "y_pred = np.reshape(y_pred, -1)\n"
      ]
    },
    {
      "cell_type": "code",
      "execution_count": 38,
      "metadata": {
        "id": "i2xLxyyl_8JM"
      },
      "outputs": [],
      "source": [
        "saveResult(y_pred, 'sample_submission_trial3.csv')"
      ]
    },
    {
      "cell_type": "markdown",
      "metadata": {
        "id": "9ss9VFgs_88k"
      },
      "source": [
        "## Fourth trial"
      ]
    },
    {
      "cell_type": "markdown",
      "metadata": {
        "id": "khaqn9n1Si7Z"
      },
      "source": [
        "thoughts and observations for trial 3, plan for trial 4: \n",
        "\n",
        "<br/>\n",
        "\n",
        "I used **Graph Neural Network** as this task is a bioassay task for anticancer activity prediction, where each chemical compound is represented as a graph.\n",
        "\n",
        "I used this Graph Neural Network **with the Up-Sampled data**, in addition to applying one of the **GCN aggregation mechanisms** by tuning the message_passing mechanisms and **configure the message passing style to be RGCN**\n",
        "\n",
        "After declaring the GNNInput, I defined the hyperparameters for GNN layer by loading the **defualt hyperparameters of GNN** and set **`hidden_dim` to be 32** which represent the size of the output of all message passing layers, and **set `message_calculation_class` parameter to be RGCN**\n",
        "\n",
        "then adding Graph Neural Network layer with the defined hyperparameters and calculating segmented mean based on segment_ids\n",
        "\n",
        "Finally, define the output layer of the model then building and compiling the model using **BinaryCrossentropy** for loss and the **AUC metric** to measure the performance of the network.\n",
        "\n",
        "<br/>\n",
        "\n",
        "While fitting the model I specified the value of batch size to be 16 and the value of epochs to be 10 and used the `validation_set` to validate our model\n",
        "\n",
        "<br/>\n",
        "\n",
        "From the result, we can say that the results is much better than using the model without applying GCN aggregation mechanisms, but in this trail the result is lower than previous model whose message_calculation_class parameter equals to GGNN\n",
        "\n"
      ]
    },
    {
      "cell_type": "markdown",
      "metadata": {
        "id": "srqqUWsO_88l"
      },
      "source": [
        "### Building the model"
      ]
    },
    {
      "cell_type": "code",
      "execution_count": 39,
      "metadata": {
        "colab": {
          "base_uri": "https://localhost:8080/"
        },
        "id": "6m-7KlIs_88l",
        "outputId": "3ef61a13-eec3-4a95-a110-9499efc102cb"
      },
      "outputs": [
        {
          "name": "stdout",
          "output_type": "stream",
          "text": [
            "Model: \"model_2\"\n",
            "__________________________________________________________________________________________________\n",
            " Layer (type)                   Output Shape         Param #     Connected to                     \n",
            "==================================================================================================\n",
            " input_9 (InputLayer)           [(None,)]            0           []                               \n",
            "                                                                                                  \n",
            " input_7 (InputLayer)           [(None,)]            0           []                               \n",
            "                                                                                                  \n",
            " tf.math.reduce_max_2 (TFOpLamb  ()                  0           ['input_9[0][0]']                \n",
            " da)                                                                                              \n",
            "                                                                                                  \n",
            " embedding_2 (Embedding)        (None, 20)           10000       ['input_7[0][0]']                \n",
            "                                                                                                  \n",
            " input_8 (InputLayer)           [(None, 2)]          0           []                               \n",
            "                                                                                                  \n",
            " tf.__operators__.add_2 (TFOpLa  ()                  0           ['tf.math.reduce_max_2[0][0]']   \n",
            " mbda)                                                                                            \n",
            "                                                                                                  \n",
            " gnn_2 (GNN)                    (None, 32)           22464       ['embedding_2[0][0]',            \n",
            "                                                                  'input_8[0][0]',                \n",
            "                                                                  'input_9[0][0]',                \n",
            "                                                                  'tf.__operators__.add_2[0][0]'] \n",
            "                                                                                                  \n",
            " tf.math.segment_mean_2 (TFOpLa  (None, 32)          0           ['gnn_2[0][0]',                  \n",
            " mbda)                                                            'input_9[0][0]']                \n",
            "                                                                                                  \n",
            " dense_2 (Dense)                (None, 1)            33          ['tf.math.segment_mean_2[0][0]'] \n",
            "                                                                                                  \n",
            "==================================================================================================\n",
            "Total params: 32,497\n",
            "Trainable params: 32,497\n",
            "Non-trainable params: 0\n",
            "__________________________________________________________________________________________________\n"
          ]
        }
      ],
      "source": [
        "data = keras.Input(batch_shape=(None,))\n",
        "\n",
        "# the first dim is different to the previous one. it is the total number of edges in this batch\n",
        "edge = keras.Input(batch_shape=(None, 2), dtype=tf.int32)\n",
        "node2graph = keras.Input(batch_shape=(None,), dtype=tf.int32)\n",
        "embeded = Embedding(tokenizer.num_words, 20)(data)\n",
        "\n",
        "# number of graphs (number of samples)\n",
        "num_graph = tf.reduce_max(node2graph)+1\n",
        "\n",
        "# declare the GNNInput that take the features of node, the edge, the created list 'node2graph', and number of graphs (number of samples)\n",
        "gnn_input = GNNInput(\n",
        "    node_features = embeded,\n",
        "    adjacency_lists = (edge,),\n",
        "    node_to_graph_map = node2graph, \n",
        "    num_graphs = num_graph,\n",
        ")\n",
        "\n",
        "\n",
        "# configure the hyperparameters of GNN layers\n",
        "# https://github.com/microsoft/tf2-gnn/blob/master/tf2_gnn/layers/gnn.py\n",
        "# \n",
        "# frist load the defualt hyperparameters\n",
        "params = GNN.get_default_hyperparameters()\n",
        "# sets the size of the output of all message passing layers\n",
        "params[\"hidden_dim\"] = 32\n",
        "# configures the message passing style to be RGCN (Relational Graph Convolutional Networks)\n",
        "params['message_calculation_class'] = 'RGCN'\n",
        "\n",
        "# Implements a deep Graph Neural Network\n",
        "gnn_layer = GNN(params)\n",
        "gnn_out = gnn_layer(gnn_input)\n",
        "\n",
        "\n",
        "\n",
        "# Computes the mean along segments of a tensor\n",
        "# https://www.tensorflow.org/api_docs/python/tf/math/segment_mean\n",
        "avg = segment_mean(\n",
        "    data = gnn_out,\n",
        "    segment_ids = node2graph\n",
        ")\n",
        "\n",
        "# Define the output layer of the model\n",
        "pred = Dense(1, activation='sigmoid')(avg)\n",
        "\n",
        "\n",
        "# Creating the model\n",
        "model = Model(\n",
        "    inputs = {\n",
        "        'data': data,\n",
        "        'edges': edge,\n",
        "        'node2grah': node2graph,\n",
        "    },\n",
        "    outputs = pred\n",
        ")\n",
        "model.summary()"
      ]
    },
    {
      "cell_type": "code",
      "execution_count": 40,
      "metadata": {
        "id": "g4_ydeAj_88m"
      },
      "outputs": [],
      "source": [
        "model.compile(\n",
        "    loss='BinaryCrossentropy',\n",
        "    metrics=['AUC']\n",
        ")"
      ]
    },
    {
      "cell_type": "markdown",
      "metadata": {
        "id": "eU2JZSlI_88m"
      },
      "source": [
        "### Model Training\n",
        "\n"
      ]
    },
    {
      "cell_type": "code",
      "execution_count": 41,
      "metadata": {
        "colab": {
          "base_uri": "https://localhost:8080/"
        },
        "id": "iPd9UL2m_88n",
        "outputId": "6201655c-9b1a-4abd-d963-8052d1e78ebb"
      },
      "outputs": [
        {
          "name": "stdout",
          "output_type": "stream",
          "text": [
            "Epoch 1/10\n",
            "2530/2530 [==============================] - 51s 19ms/step - loss: 0.6265 - auc: 0.7048 - val_loss: 0.5988 - val_auc: 0.7436\n",
            "Epoch 2/10\n",
            "2530/2530 [==============================] - 43s 17ms/step - loss: 0.5986 - auc: 0.7454 - val_loss: 0.5906 - val_auc: 0.7552\n",
            "Epoch 3/10\n",
            "2530/2530 [==============================] - 43s 17ms/step - loss: 0.5888 - auc: 0.7579 - val_loss: 0.5723 - val_auc: 0.7810\n",
            "Epoch 4/10\n",
            "2530/2530 [==============================] - 43s 17ms/step - loss: 0.5748 - auc: 0.7744 - val_loss: 0.5534 - val_auc: 0.7990\n",
            "Epoch 5/10\n",
            "2530/2530 [==============================] - 43s 17ms/step - loss: 0.5634 - auc: 0.7855 - val_loss: 0.5528 - val_auc: 0.7988\n",
            "Epoch 6/10\n",
            "2530/2530 [==============================] - 42s 17ms/step - loss: 0.5521 - auc: 0.7973 - val_loss: 0.5274 - val_auc: 0.8187\n",
            "Epoch 7/10\n",
            "2530/2530 [==============================] - 43s 17ms/step - loss: 0.5388 - auc: 0.8086 - val_loss: 0.5345 - val_auc: 0.8172\n",
            "Epoch 8/10\n",
            "2530/2530 [==============================] - 43s 17ms/step - loss: 0.5296 - auc: 0.8153 - val_loss: 0.5064 - val_auc: 0.8338\n",
            "Epoch 9/10\n",
            "2530/2530 [==============================] - 43s 17ms/step - loss: 0.5208 - auc: 0.8227 - val_loss: 0.5085 - val_auc: 0.8327\n",
            "Epoch 10/10\n",
            "2530/2530 [==============================] - 43s 17ms/step - loss: 0.5213 - auc: 0.8221 - val_loss: 0.5053 - val_auc: 0.8375\n"
          ]
        },
        {
          "data": {
            "text/plain": [
              "<keras.callbacks.History at 0x7f3dcae75a10>"
            ]
          },
          "execution_count": 41,
          "metadata": {},
          "output_type": "execute_result"
        }
      ],
      "source": [
        "batch_size = 16\n",
        "\n",
        "# calculate steps_per_epoch for training and validation data\n",
        "num_batchs = math.ceil(len(training_set) / batch_size)\n",
        "num_batchs_validation = math.ceil(len(validation_set) / batch_size)\n",
        "\n",
        "# training the model for 5 epochs\n",
        "model.fit(\n",
        "    gen_batch(\n",
        "        training_set, batch_size=batch_size, repeat=True\n",
        "    ),\n",
        "    steps_per_epoch = num_batchs,\n",
        "    epochs = 10,\n",
        "    validation_data = gen_batch(\n",
        "        validation_set, batch_size=16, repeat=True\n",
        "    ),\n",
        "    validation_steps = num_batchs_validation,\n",
        ")"
      ]
    },
    {
      "cell_type": "markdown",
      "metadata": {
        "id": "kM9bykVw_88n"
      },
      "source": [
        "### Predition & Saving results"
      ]
    },
    {
      "cell_type": "code",
      "execution_count": 42,
      "metadata": {
        "id": "BCpLPbBd_88o"
      },
      "outputs": [],
      "source": [
        "y_pred = model.predict(\n",
        "    gen_batch(test, batch_size=16, shuffle=False)\n",
        ")\n",
        "y_pred = np.reshape(y_pred, -1)\n"
      ]
    },
    {
      "cell_type": "code",
      "execution_count": 43,
      "metadata": {
        "id": "ggk1APkQ_88o"
      },
      "outputs": [],
      "source": [
        "saveResult(y_pred, 'sample_submission_trial4.csv')"
      ]
    },
    {
      "cell_type": "markdown",
      "metadata": {
        "id": "5jlpvXCoVXQh"
      },
      "source": [
        "## Fifth trial"
      ]
    },
    {
      "cell_type": "markdown",
      "metadata": {
        "id": "pHDe1ZFeWPob"
      },
      "source": [
        "thoughts and observations for trial 4, plan for trial 5: \n",
        "\n",
        "<br/>\n",
        "\n",
        "I used **Graph Neural Network** as this task is a bioassay task for anticancer activity prediction, where each chemical compound is represented as a graph.\n",
        "\n",
        "I used this Graph Neural Network **with the Up-Sampled data**, in addition to applying one of the **GCN aggregation mechanisms** by tuning the message_passing mechanisms and **configure the message passing style to be RGAT**\n",
        "\n",
        "After declaring the GNNInput, I defined the hyperparameters for GNN layer by loading the **defualt hyperparameters of GNN** and set **`hidden_dim` to be 32** which represent the size of the output of all message passing layers, and **set `message_calculation_class` parameter to be RGAT**, and set the number of parallel (independent) weighted sums that are computed **`num_heads` to be 4**\n",
        "\n",
        "then adding Graph Neural Network layer with the defined hyperparameters and calculating segmented mean based on segment_ids\n",
        "\n",
        "Finally, define the output layer of the model then building and compiling the model using **BinaryCrossentropy** for loss and the **AUC metric** to measure the performance of the network.\n",
        "\n",
        "<br/>\n",
        "\n",
        "While fitting the model I specified the value of batch size to be 16 and the value of epochs to be 10 and used the `validation_set` to validate our model\n",
        "\n",
        "<br/>\n",
        "\n",
        "From the result, we can say that the results is much better than the previous trial which has message_calculation_class parameter equals to RGCN, but it is lower than the model whose message_calculation_class parameter equals to GGNN\n",
        "\n"
      ]
    },
    {
      "cell_type": "markdown",
      "metadata": {
        "id": "MZCCzThWVXQt"
      },
      "source": [
        "### Building the model"
      ]
    },
    {
      "cell_type": "code",
      "execution_count": 44,
      "metadata": {
        "colab": {
          "base_uri": "https://localhost:8080/"
        },
        "id": "p9Q-Cd-NVXQt",
        "outputId": "1023f9c7-2a6a-4d96-cc55-900a5bbec148"
      },
      "outputs": [
        {
          "name": "stdout",
          "output_type": "stream",
          "text": [
            "Model: \"model_3\"\n",
            "__________________________________________________________________________________________________\n",
            " Layer (type)                   Output Shape         Param #     Connected to                     \n",
            "==================================================================================================\n",
            " input_12 (InputLayer)          [(None,)]            0           []                               \n",
            "                                                                                                  \n",
            " input_10 (InputLayer)          [(None,)]            0           []                               \n",
            "                                                                                                  \n",
            " tf.math.reduce_max_3 (TFOpLamb  ()                  0           ['input_12[0][0]']               \n",
            " da)                                                                                              \n",
            "                                                                                                  \n",
            " embedding_3 (Embedding)        (None, 20)           10000       ['input_10[0][0]']               \n",
            "                                                                                                  \n",
            " input_11 (InputLayer)          [(None, 2)]          0           []                               \n",
            "                                                                                                  \n",
            " tf.__operators__.add_3 (TFOpLa  ()                  0           ['tf.math.reduce_max_3[0][0]']   \n",
            " mbda)                                                                                            \n",
            "                                                                                                  \n",
            " gnn_3 (GNN)                    (None, 32)           22720       ['embedding_3[0][0]',            \n",
            "                                                                  'input_11[0][0]',               \n",
            "                                                                  'input_12[0][0]',               \n",
            "                                                                  'tf.__operators__.add_3[0][0]'] \n",
            "                                                                                                  \n",
            " tf.math.segment_mean_3 (TFOpLa  (None, 32)          0           ['gnn_3[0][0]',                  \n",
            " mbda)                                                            'input_12[0][0]']               \n",
            "                                                                                                  \n",
            " dense_3 (Dense)                (None, 1)            33          ['tf.math.segment_mean_3[0][0]'] \n",
            "                                                                                                  \n",
            "==================================================================================================\n",
            "Total params: 32,753\n",
            "Trainable params: 32,753\n",
            "Non-trainable params: 0\n",
            "__________________________________________________________________________________________________\n"
          ]
        }
      ],
      "source": [
        "data = keras.Input(batch_shape=(None,))\n",
        "\n",
        "# the first dim is different to the previous one. it is the total number of edges in this batch\n",
        "edge = keras.Input(batch_shape=(None, 2), dtype=tf.int32)\n",
        "node2graph = keras.Input(batch_shape=(None,), dtype=tf.int32)\n",
        "embeded = Embedding(tokenizer.num_words, 20)(data)\n",
        "\n",
        "# number of graphs (number of samples)\n",
        "num_graph = tf.reduce_max(node2graph)+1\n",
        "\n",
        "# declare the GNNInput that take the features of node, the edge, the created list 'node2graph', and number of graphs (number of samples)\n",
        "gnn_input = GNNInput(\n",
        "    node_features = embeded,\n",
        "    adjacency_lists = (edge,),\n",
        "    node_to_graph_map = node2graph, \n",
        "    num_graphs = num_graph,\n",
        ")\n",
        "\n",
        "\n",
        "# configure the hyperparameters of GNN layers\n",
        "# https://github.com/microsoft/tf2-gnn/blob/master/tf2_gnn/layers/gnn.py\n",
        "# \n",
        "# frist load the defualt hyperparameters\n",
        "params = GNN.get_default_hyperparameters()\n",
        "# sets the size of the output of all message passing layers\n",
        "params[\"hidden_dim\"] = 32\n",
        "# configures the message passing style to be RGAT (Relational Graph Attention Networks)\n",
        "params['message_calculation_class'] = 'RGAT'\n",
        "# configures the number of parallel (independent) weighted sums that are computed, whose results are concatenated to obtain the final result.\n",
        "params[\"num_heads\"] = 4\n",
        "\n",
        "# Implements a deep Graph Neural Network\n",
        "gnn_layer = GNN(params)\n",
        "gnn_out = gnn_layer(gnn_input)\n",
        "\n",
        "\n",
        "\n",
        "# Computes the mean along segments of a tensor\n",
        "# https://www.tensorflow.org/api_docs/python/tf/math/segment_mean\n",
        "avg = segment_mean(\n",
        "    data = gnn_out,\n",
        "    segment_ids = node2graph\n",
        ")\n",
        "\n",
        "# Define the out put layer of the model\n",
        "pred = Dense(1, activation='sigmoid')(avg)\n",
        "\n",
        "\n",
        "# Creating the model\n",
        "model = Model(\n",
        "    inputs = {\n",
        "        'data': data,\n",
        "        'edges': edge,\n",
        "        'node2grah': node2graph,\n",
        "    },\n",
        "    outputs = pred\n",
        ")\n",
        "model.summary()"
      ]
    },
    {
      "cell_type": "code",
      "execution_count": 45,
      "metadata": {
        "id": "baj-c-KoVXQu"
      },
      "outputs": [],
      "source": [
        "model.compile(\n",
        "    loss='BinaryCrossentropy',\n",
        "    metrics=['AUC']\n",
        ")"
      ]
    },
    {
      "cell_type": "markdown",
      "metadata": {
        "id": "sLmHWzu2VXQu"
      },
      "source": [
        "### Model Training\n",
        "\n"
      ]
    },
    {
      "cell_type": "code",
      "execution_count": 46,
      "metadata": {
        "colab": {
          "base_uri": "https://localhost:8080/"
        },
        "id": "-HZCWq9uVXQu",
        "outputId": "065e50d9-f908-4260-8d10-f138caad97a2"
      },
      "outputs": [
        {
          "name": "stdout",
          "output_type": "stream",
          "text": [
            "Epoch 1/10\n",
            "2530/2530 [==============================] - 65s 24ms/step - loss: 0.6232 - auc: 0.7103 - val_loss: 0.6078 - val_auc: 0.7435\n",
            "Epoch 2/10\n",
            "2530/2530 [==============================] - 59s 23ms/step - loss: 0.5844 - auc: 0.7595 - val_loss: 0.5664 - val_auc: 0.7830\n",
            "Epoch 3/10\n",
            "2530/2530 [==============================] - 59s 23ms/step - loss: 0.5624 - auc: 0.7836 - val_loss: 0.5463 - val_auc: 0.8004\n",
            "Epoch 4/10\n",
            "2530/2530 [==============================] - 59s 23ms/step - loss: 0.5464 - auc: 0.7999 - val_loss: 0.5282 - val_auc: 0.8180\n",
            "Epoch 5/10\n",
            "2530/2530 [==============================] - 59s 23ms/step - loss: 0.5347 - auc: 0.8092 - val_loss: 0.5205 - val_auc: 0.8308\n",
            "Epoch 6/10\n",
            "2530/2530 [==============================] - 60s 24ms/step - loss: 0.5198 - auc: 0.8227 - val_loss: 0.5172 - val_auc: 0.8342\n",
            "Epoch 7/10\n",
            "2530/2530 [==============================] - 60s 24ms/step - loss: 0.5082 - auc: 0.8322 - val_loss: 0.4872 - val_auc: 0.8499\n",
            "Epoch 8/10\n",
            "2530/2530 [==============================] - 60s 24ms/step - loss: 0.4969 - auc: 0.8404 - val_loss: 0.4969 - val_auc: 0.8525\n",
            "Epoch 9/10\n",
            "2530/2530 [==============================] - 60s 24ms/step - loss: 0.4892 - auc: 0.8460 - val_loss: 0.4684 - val_auc: 0.8609\n",
            "Epoch 10/10\n",
            "2530/2530 [==============================] - 60s 24ms/step - loss: 0.4852 - auc: 0.8494 - val_loss: 0.4635 - val_auc: 0.8691\n"
          ]
        },
        {
          "data": {
            "text/plain": [
              "<keras.callbacks.History at 0x7f3dd1208610>"
            ]
          },
          "execution_count": 46,
          "metadata": {},
          "output_type": "execute_result"
        }
      ],
      "source": [
        "batch_size = 16\n",
        "\n",
        "# calculate steps_per_epoch for training and validation data\n",
        "num_batchs = math.ceil(len(training_set) / batch_size)\n",
        "num_batchs_validation = math.ceil(len(validation_set) / batch_size)\n",
        "\n",
        "# training the model for 5 epochs\n",
        "model.fit(\n",
        "    gen_batch(\n",
        "        training_set, batch_size=batch_size, repeat=True\n",
        "    ),\n",
        "    steps_per_epoch = num_batchs,\n",
        "    epochs = 10,\n",
        "    validation_data = gen_batch(\n",
        "        validation_set, batch_size=16, repeat=True\n",
        "    ),\n",
        "    validation_steps = num_batchs_validation,\n",
        ")"
      ]
    },
    {
      "cell_type": "markdown",
      "metadata": {
        "id": "AL4xn0HGVXQu"
      },
      "source": [
        "### Predition & Saving results"
      ]
    },
    {
      "cell_type": "code",
      "execution_count": 47,
      "metadata": {
        "id": "txkvy4urVXQv"
      },
      "outputs": [],
      "source": [
        "y_pred = model.predict(\n",
        "    gen_batch(test, batch_size=16, shuffle=False)\n",
        ")\n",
        "y_pred = np.reshape(y_pred, -1)\n"
      ]
    },
    {
      "cell_type": "code",
      "execution_count": 48,
      "metadata": {
        "id": "Z4d_eVY-VXQv"
      },
      "outputs": [],
      "source": [
        "saveResult(y_pred, 'sample_submission_trial5.csv')"
      ]
    },
    {
      "cell_type": "markdown",
      "metadata": {
        "id": "MIfZY-a7g90Q"
      },
      "source": [
        "## Sixth trial"
      ]
    },
    {
      "cell_type": "markdown",
      "metadata": {
        "id": "j85osVUxX1gj"
      },
      "source": [
        "thoughts and observations for trial 5, plan for trial 6: \n",
        "\n",
        "<br/>\n",
        "\n",
        "I used **Graph Neural Network** as this task is a bioassay task for anticancer activity prediction, where each chemical compound is represented as a graph.\n",
        "\n",
        "I used this Graph Neural Network **with the Up-Sampled data**, in addition to applying one of the **GCN aggregation mechanisms** by tuning the message_passing mechanisms and **configure the message passing style to be RGIN**\n",
        "\n",
        "After declaring the GNNInput, I defined the hyperparameters for GNN layer by loading the **defualt hyperparameters of GNN** and set **`hidden_dim` to be 32** which represent the size of the output of all message passing layers, and **set `message_calculation_class` parameter to be RGIN**, and set the **`num_aggr_MLP_hidden_layers` to be 2** as it is required parameter for RGIN\n",
        "\n",
        "then adding Graph Neural Network layer with the defined hyperparameters and calculating segmented mean based on segment_ids\n",
        "\n",
        "Finally, define the output layer of the model then building and compiling the model using **BinaryCrossentropy** for loss and the **AUC metric** to measure the performance of the network.\n",
        "\n",
        "<br/>\n",
        "\n",
        "While fitting the model I specified the value of batch size to be 16 and the value of epochs to be 10 and used the `validation_set` to validate our model\n",
        "\n",
        "<br/>\n",
        "\n",
        "From the result, we can say that the results is much better than the previous trial which has message_calculation_class parameter equals to RGCN, but it is lower than the model whose message_calculation_class parameter equals to GGNN\n",
        "\n"
      ]
    },
    {
      "cell_type": "markdown",
      "metadata": {
        "id": "xQt89uBIg90Q"
      },
      "source": [
        "### Building the model"
      ]
    },
    {
      "cell_type": "code",
      "execution_count": 49,
      "metadata": {
        "colab": {
          "base_uri": "https://localhost:8080/"
        },
        "id": "w6turn-pg90R",
        "outputId": "c99b434d-7468-4252-a4ae-7e4f270609a5"
      },
      "outputs": [
        {
          "name": "stdout",
          "output_type": "stream",
          "text": [
            "Model: \"model_4\"\n",
            "__________________________________________________________________________________________________\n",
            " Layer (type)                   Output Shape         Param #     Connected to                     \n",
            "==================================================================================================\n",
            " input_15 (InputLayer)          [(None,)]            0           []                               \n",
            "                                                                                                  \n",
            " input_13 (InputLayer)          [(None,)]            0           []                               \n",
            "                                                                                                  \n",
            " tf.math.reduce_max_4 (TFOpLamb  ()                  0           ['input_15[0][0]']               \n",
            " da)                                                                                              \n",
            "                                                                                                  \n",
            " embedding_4 (Embedding)        (None, 20)           10000       ['input_13[0][0]']               \n",
            "                                                                                                  \n",
            " input_14 (InputLayer)          [(None, 2)]          0           []                               \n",
            "                                                                                                  \n",
            " tf.__operators__.add_4 (TFOpLa  ()                  0           ['tf.math.reduce_max_4[0][0]']   \n",
            " mbda)                                                                                            \n",
            "                                                                                                  \n",
            " gnn_4 (GNN)                    (None, 32)           34752       ['embedding_4[0][0]',            \n",
            "                                                                  'input_14[0][0]',               \n",
            "                                                                  'input_15[0][0]',               \n",
            "                                                                  'tf.__operators__.add_4[0][0]'] \n",
            "                                                                                                  \n",
            " tf.math.segment_mean_4 (TFOpLa  (None, 32)          0           ['gnn_4[0][0]',                  \n",
            " mbda)                                                            'input_15[0][0]']               \n",
            "                                                                                                  \n",
            " dense_4 (Dense)                (None, 1)            33          ['tf.math.segment_mean_4[0][0]'] \n",
            "                                                                                                  \n",
            "==================================================================================================\n",
            "Total params: 44,785\n",
            "Trainable params: 44,785\n",
            "Non-trainable params: 0\n",
            "__________________________________________________________________________________________________\n"
          ]
        }
      ],
      "source": [
        "data = keras.Input(batch_shape=(None,))\n",
        "\n",
        "# the first dim is different to the previous one. it is the total number of edges in this batch\n",
        "edge = keras.Input(batch_shape=(None, 2), dtype=tf.int32)\n",
        "node2graph = keras.Input(batch_shape=(None,), dtype=tf.int32)\n",
        "embeded = Embedding(tokenizer.num_words, 20)(data)\n",
        "\n",
        "# number of graphs (number of samples)\n",
        "num_graph = tf.reduce_max(node2graph)+1\n",
        "\n",
        "# declare the GNNInput that take the features of node, the edge, the created list 'node2graph', and number of graphs (number of samples)\n",
        "gnn_input = GNNInput(\n",
        "    node_features = embeded,\n",
        "    adjacency_lists = (edge,),\n",
        "    node_to_graph_map = node2graph, \n",
        "    num_graphs = num_graph,\n",
        ")\n",
        "\n",
        "\n",
        "# configure the hyperparameters of GNN layers\n",
        "# https://github.com/microsoft/tf2-gnn/blob/master/tf2_gnn/layers/gnn.py\n",
        "# \n",
        "# frist load the defualt hyperparameters\n",
        "params = GNN.get_default_hyperparameters()\n",
        "# sets the size of the output of all message passing layers\n",
        "params[\"hidden_dim\"] = 32\n",
        "# configures the message passing style to be RGIN (Relational Graph Isomorphism Networks)\n",
        "params['message_calculation_class'] = 'RGIN'\n",
        "params['num_aggr_MLP_hidden_layers'] = 2\n",
        "\n",
        "# Implements a deep Graph Neural Network\n",
        "gnn_layer = GNN(params)\n",
        "gnn_out = gnn_layer(gnn_input)\n",
        "\n",
        "\n",
        "\n",
        "# Computes the mean along segments of a tensor\n",
        "# https://www.tensorflow.org/api_docs/python/tf/math/segment_mean\n",
        "avg = segment_mean(\n",
        "    data = gnn_out,\n",
        "    segment_ids = node2graph\n",
        ")\n",
        "\n",
        "# Define the out put layer of the model\n",
        "pred = Dense(1, activation='sigmoid')(avg)\n",
        "\n",
        "\n",
        "# Creating the model\n",
        "model = Model(\n",
        "    inputs = {\n",
        "        'data': data,\n",
        "        'edges': edge,\n",
        "        'node2grah': node2graph,\n",
        "    },\n",
        "    outputs = pred\n",
        ")\n",
        "model.summary()"
      ]
    },
    {
      "cell_type": "code",
      "execution_count": 50,
      "metadata": {
        "id": "6fgFjeMeg90S"
      },
      "outputs": [],
      "source": [
        "model.compile(\n",
        "    loss='BinaryCrossentropy',\n",
        "    metrics=['AUC']\n",
        ")"
      ]
    },
    {
      "cell_type": "markdown",
      "metadata": {
        "id": "20Eaz4iOg90S"
      },
      "source": [
        "### Model Training\n",
        "\n"
      ]
    },
    {
      "cell_type": "code",
      "execution_count": 51,
      "metadata": {
        "colab": {
          "base_uri": "https://localhost:8080/"
        },
        "id": "cG9TqWJeg90S",
        "outputId": "fe979263-0d54-48f2-bf35-f8ac7b5fd7f8"
      },
      "outputs": [
        {
          "name": "stdout",
          "output_type": "stream",
          "text": [
            "Epoch 1/10\n",
            "2530/2530 [==============================] - 56s 21ms/step - loss: 0.6270 - auc: 0.7064 - val_loss: 0.6064 - val_auc: 0.7336\n",
            "Epoch 2/10\n",
            "2530/2530 [==============================] - 53s 21ms/step - loss: 0.6035 - auc: 0.7394 - val_loss: 0.5844 - val_auc: 0.7624\n",
            "Epoch 3/10\n",
            "2530/2530 [==============================] - 57s 23ms/step - loss: 0.5869 - auc: 0.7606 - val_loss: 0.5846 - val_auc: 0.7821\n",
            "Epoch 4/10\n",
            "2530/2530 [==============================] - 53s 21ms/step - loss: 0.5655 - auc: 0.7830 - val_loss: 0.5585 - val_auc: 0.7899\n",
            "Epoch 5/10\n",
            "2530/2530 [==============================] - 53s 21ms/step - loss: 0.5545 - auc: 0.7929 - val_loss: 0.5488 - val_auc: 0.8125\n",
            "Epoch 6/10\n",
            "2530/2530 [==============================] - 53s 21ms/step - loss: 0.5421 - auc: 0.8052 - val_loss: 0.5480 - val_auc: 0.8022\n",
            "Epoch 7/10\n",
            "2530/2530 [==============================] - 54s 21ms/step - loss: 0.5335 - auc: 0.8131 - val_loss: 0.5089 - val_auc: 0.8320\n",
            "Epoch 8/10\n",
            "2530/2530 [==============================] - 53s 21ms/step - loss: 0.5289 - auc: 0.8170 - val_loss: 0.5473 - val_auc: 0.8031\n",
            "Epoch 9/10\n",
            "2530/2530 [==============================] - 53s 21ms/step - loss: 0.5223 - auc: 0.8222 - val_loss: 0.5083 - val_auc: 0.8390\n",
            "Epoch 10/10\n",
            "2530/2530 [==============================] - 56s 22ms/step - loss: 0.5199 - auc: 0.8244 - val_loss: 0.4895 - val_auc: 0.8484\n"
          ]
        },
        {
          "data": {
            "text/plain": [
              "<keras.callbacks.History at 0x7f3dc5621a10>"
            ]
          },
          "execution_count": 51,
          "metadata": {},
          "output_type": "execute_result"
        }
      ],
      "source": [
        "batch_size = 16\n",
        "\n",
        "# calculate steps_per_epoch for training and validation data\n",
        "num_batchs = math.ceil(len(training_set) / batch_size)\n",
        "num_batchs_validation = math.ceil(len(validation_set) / batch_size)\n",
        "\n",
        "# training the model for 5 epochs\n",
        "model.fit(\n",
        "    gen_batch(\n",
        "        training_set, batch_size=batch_size, repeat=True\n",
        "    ),\n",
        "    steps_per_epoch = num_batchs,\n",
        "    epochs = 10,\n",
        "    validation_data = gen_batch(\n",
        "        validation_set, batch_size=16, repeat=True\n",
        "    ),\n",
        "    validation_steps = num_batchs_validation,\n",
        ")"
      ]
    },
    {
      "cell_type": "markdown",
      "metadata": {
        "id": "FQLz0BdRg90T"
      },
      "source": [
        "### Predition & Saving results"
      ]
    },
    {
      "cell_type": "code",
      "execution_count": 52,
      "metadata": {
        "id": "F9WiqEy3g90T"
      },
      "outputs": [],
      "source": [
        "y_pred = model.predict(\n",
        "    gen_batch(test, batch_size=16, shuffle=False)\n",
        ")\n",
        "y_pred = np.reshape(y_pred, -1)\n"
      ]
    },
    {
      "cell_type": "code",
      "execution_count": 53,
      "metadata": {
        "id": "j7zMCFD7g90T"
      },
      "outputs": [],
      "source": [
        "saveResult(y_pred, 'sample_submission_trial6.csv')"
      ]
    },
    {
      "cell_type": "markdown",
      "metadata": {
        "id": "CN4lsnn7siqD"
      },
      "source": [
        "## Seventh trial"
      ]
    },
    {
      "cell_type": "markdown",
      "metadata": {
        "id": "V75CBIOUYyTs"
      },
      "source": [
        "thoughts and observations for trial 6, plan for trial 7: \n",
        "\n",
        "<br/>\n",
        "\n",
        "I used **Graph Neural Network** as this task is a bioassay task for anticancer activity prediction, where each chemical compound is represented as a graph.\n",
        "\n",
        "I used this Graph Neural Network **with the Up-Sampled data**, in addition to applying one of the **GCN aggregation mechanisms** by tuning the message_passing mechanisms and **configure the message passing style to be GNN_Edge_MLP**\n",
        "\n",
        "After declaring the GNNInput, I defined the hyperparameters for GNN layer by loading the **defualt hyperparameters of GNN_Edge_MLP** and set **`hidden_dim` to be 32** which represent the size of the output of all message passing layers, and **configure all the parameters that needed by GNN_Edge_MLP**\n",
        "\n",
        "then adding Graph Neural Network layer with the defined hyperparameters and calculating segmented mean based on segment_ids\n",
        "\n",
        "Finally, define the output layer of the model then building and compiling the model using **BinaryCrossentropy** for loss and the **AUC metric** to measure the performance of the network.\n",
        "\n",
        "<br/>\n",
        "\n",
        "While fitting the model I specified the value of batch size to be 16 and the value of epochs to be 10 and used the `validation_set` to validate our model\n",
        "\n",
        "<br/>\n",
        "\n",
        "From the result, we can say that the result is lower than the model whose message_calculation_class parameter equals to GGNN, but it is better than other trials\n",
        "\n"
      ]
    },
    {
      "cell_type": "markdown",
      "metadata": {
        "id": "CblXIkqOsiqE"
      },
      "source": [
        "### Building the model"
      ]
    },
    {
      "cell_type": "code",
      "execution_count": 54,
      "metadata": {
        "colab": {
          "base_uri": "https://localhost:8080/"
        },
        "id": "oyAdeQVasiqF",
        "outputId": "85e224a1-e2ba-44eb-86a7-e9b388a4cea7"
      },
      "outputs": [
        {
          "name": "stdout",
          "output_type": "stream",
          "text": [
            "Model: \"model_5\"\n",
            "__________________________________________________________________________________________________\n",
            " Layer (type)                   Output Shape         Param #     Connected to                     \n",
            "==================================================================================================\n",
            " input_18 (InputLayer)          [(None,)]            0           []                               \n",
            "                                                                                                  \n",
            " input_16 (InputLayer)          [(None,)]            0           []                               \n",
            "                                                                                                  \n",
            " tf.math.reduce_max_5 (TFOpLamb  ()                  0           ['input_18[0][0]']               \n",
            " da)                                                                                              \n",
            "                                                                                                  \n",
            " embedding_5 (Embedding)        (None, 20)           10000       ['input_16[0][0]']               \n",
            "                                                                                                  \n",
            " input_17 (InputLayer)          [(None, 2)]          0           []                               \n",
            "                                                                                                  \n",
            " tf.__operators__.add_5 (TFOpLa  ()                  0           ['tf.math.reduce_max_5[0][0]']   \n",
            " mbda)                                                                                            \n",
            "                                                                                                  \n",
            " gnn_5 (GNN)                    (None, 32)           15232       ['embedding_5[0][0]',            \n",
            "                                                                  'input_17[0][0]',               \n",
            "                                                                  'input_18[0][0]',               \n",
            "                                                                  'tf.__operators__.add_5[0][0]'] \n",
            "                                                                                                  \n",
            " tf.math.segment_mean_5 (TFOpLa  (None, 32)          0           ['gnn_5[0][0]',                  \n",
            " mbda)                                                            'input_18[0][0]']               \n",
            "                                                                                                  \n",
            " dense_5 (Dense)                (None, 1)            33          ['tf.math.segment_mean_5[0][0]'] \n",
            "                                                                                                  \n",
            "==================================================================================================\n",
            "Total params: 25,265\n",
            "Trainable params: 25,265\n",
            "Non-trainable params: 0\n",
            "__________________________________________________________________________________________________\n"
          ]
        }
      ],
      "source": [
        "data = keras.Input(batch_shape=(None,))\n",
        "\n",
        "# the first dim is different to the previous one. it is the total number of edges in this batch\n",
        "edge = keras.Input(batch_shape=(None, 2), dtype=tf.int32)\n",
        "node2graph = keras.Input(batch_shape=(None,), dtype=tf.int32)\n",
        "embeded = Embedding(tokenizer.num_words, 20)(data)\n",
        "\n",
        "# number of graphs (number of samples)\n",
        "num_graph = tf.reduce_max(node2graph)+1\n",
        "\n",
        "# declare the GNNInput that take the features of node, the edge, the created list 'node2graph', and number of graphs (number of samples)\n",
        "gnn_input = GNNInput(\n",
        "    node_features = embeded,\n",
        "    adjacency_lists = (edge,),\n",
        "    node_to_graph_map = node2graph, \n",
        "    num_graphs = num_graph,\n",
        ")\n",
        "\n",
        "\n",
        "# configure the hyperparameters of GNN layers\n",
        "# https://github.com/microsoft/tf2-gnn/blob/master/tf2_gnn/layers/gnn.py\n",
        "# \n",
        "# frist load the defualt hyperparameters of GNN_Edge_MLP\n",
        "params = GNN_Edge_MLP.get_default_hyperparameters()\n",
        "# sets the size of the output of all message passing layers\n",
        "params[\"hidden_dim\"] = 32\n",
        "# configures the parameters that needed by GNN_Edge_MLP\n",
        "params['num_layers'] = 4\n",
        "params['dense_every_num_layers'] = 2\n",
        "params['residual_every_num_layers'] = 2\n",
        "params['use_inter_layer_layernorm'] = 2\n",
        "params['initial_node_representation_activation'] = 'tanh'\n",
        "params['dense_intermediate_layer_activation'] = 'tanh'\n",
        "params['message_calculation_class'] = 'RGCN'\n",
        "params['global_exchange_mode'] = 'gru'   # has to be one of 'mean', 'mlp', 'gru'!\n",
        "params['global_exchange_every_num_layers'] = 1000\n",
        "params['global_exchange_weighting_fun'] = 'softmax'\n",
        "params['global_exchange_num_heads'] = 4\n",
        "params['global_exchange_dropout_rate'] = 0.2\n",
        "params['layer_input_dropout_rate'] = 0.2\n",
        "\n",
        "# Implements a deep Graph Neural Network\n",
        "gnn_layer = GNN(params)\n",
        "gnn_out = gnn_layer(gnn_input)\n",
        "\n",
        "\n",
        "\n",
        "# Computes the mean along segments of a tensor\n",
        "# https://www.tensorflow.org/api_docs/python/tf/math/segment_mean\n",
        "avg = segment_mean(\n",
        "    data = gnn_out,\n",
        "    segment_ids = node2graph\n",
        ")\n",
        "\n",
        "# Define the out put layer of the model\n",
        "pred = Dense(1, activation='sigmoid')(avg)\n",
        "\n",
        "\n",
        "# Creating the model\n",
        "model = Model(\n",
        "    inputs = {\n",
        "        'data': data,\n",
        "        'edges': edge,\n",
        "        'node2grah': node2graph,\n",
        "    },\n",
        "    outputs = pred\n",
        ")\n",
        "model.summary()"
      ]
    },
    {
      "cell_type": "code",
      "execution_count": 55,
      "metadata": {
        "id": "R6O7XTWasiqG"
      },
      "outputs": [],
      "source": [
        "model.compile(\n",
        "    loss='BinaryCrossentropy',\n",
        "    metrics=['AUC']\n",
        ")"
      ]
    },
    {
      "cell_type": "markdown",
      "metadata": {
        "id": "NDpwkP6JsiqG"
      },
      "source": [
        "### Model Training\n",
        "\n"
      ]
    },
    {
      "cell_type": "code",
      "execution_count": 56,
      "metadata": {
        "colab": {
          "base_uri": "https://localhost:8080/"
        },
        "id": "I8kGjNTssiqG",
        "outputId": "ee820e46-4043-488a-c8dc-5e8e4c2028d2"
      },
      "outputs": [
        {
          "name": "stdout",
          "output_type": "stream",
          "text": [
            "Epoch 1/10\n",
            "2530/2530 [==============================] - 53s 20ms/step - loss: 0.6126 - auc: 0.7230 - val_loss: 0.5722 - val_auc: 0.7751\n",
            "Epoch 2/10\n",
            "2530/2530 [==============================] - 50s 20ms/step - loss: 0.5707 - auc: 0.7758 - val_loss: 0.5486 - val_auc: 0.8116\n",
            "Epoch 3/10\n",
            "2530/2530 [==============================] - 50s 20ms/step - loss: 0.5499 - auc: 0.8014 - val_loss: 0.5253 - val_auc: 0.8219\n",
            "Epoch 4/10\n",
            "2530/2530 [==============================] - 49s 19ms/step - loss: 0.5336 - auc: 0.8152 - val_loss: 0.5292 - val_auc: 0.8312\n",
            "Epoch 5/10\n",
            "2530/2530 [==============================] - 48s 19ms/step - loss: 0.5202 - auc: 0.8277 - val_loss: 0.5072 - val_auc: 0.8438\n",
            "Epoch 6/10\n",
            "2530/2530 [==============================] - 48s 19ms/step - loss: 0.5112 - auc: 0.8351 - val_loss: 0.4875 - val_auc: 0.8541\n",
            "Epoch 7/10\n",
            "2530/2530 [==============================] - 48s 19ms/step - loss: 0.4998 - auc: 0.8437 - val_loss: 0.4818 - val_auc: 0.8544\n",
            "Epoch 8/10\n",
            "2530/2530 [==============================] - 48s 19ms/step - loss: 0.4934 - auc: 0.8479 - val_loss: 0.4715 - val_auc: 0.8653\n",
            "Epoch 9/10\n",
            "2530/2530 [==============================] - 48s 19ms/step - loss: 0.4842 - auc: 0.8543 - val_loss: 0.4605 - val_auc: 0.8683\n",
            "Epoch 10/10\n",
            "2530/2530 [==============================] - 47s 19ms/step - loss: 0.4800 - auc: 0.8575 - val_loss: 0.4592 - val_auc: 0.8733\n"
          ]
        },
        {
          "data": {
            "text/plain": [
              "<keras.callbacks.History at 0x7f3dc2f3e090>"
            ]
          },
          "execution_count": 56,
          "metadata": {},
          "output_type": "execute_result"
        }
      ],
      "source": [
        "batch_size = 16\n",
        "\n",
        "# calculate steps_per_epoch for training and validation data\n",
        "num_batchs = math.ceil(len(training_set) / batch_size)\n",
        "num_batchs_validation = math.ceil(len(validation_set) / batch_size)\n",
        "\n",
        "# training the model for 5 epochs\n",
        "model.fit(\n",
        "    gen_batch(\n",
        "        training_set, batch_size=batch_size, repeat=True\n",
        "    ),\n",
        "    steps_per_epoch = num_batchs,\n",
        "    epochs = 10,\n",
        "    validation_data = gen_batch(\n",
        "        validation_set, batch_size=16, repeat=True\n",
        "    ),\n",
        "    validation_steps = num_batchs_validation,\n",
        ")"
      ]
    },
    {
      "cell_type": "markdown",
      "metadata": {
        "id": "Eerm39iEsiqH"
      },
      "source": [
        "### Predition & Saving results"
      ]
    },
    {
      "cell_type": "code",
      "execution_count": 57,
      "metadata": {
        "id": "YVA8jej7siqH"
      },
      "outputs": [],
      "source": [
        "y_pred = model.predict(\n",
        "    gen_batch(test, batch_size=16, shuffle=False)\n",
        ")\n",
        "y_pred = np.reshape(y_pred, -1)\n"
      ]
    },
    {
      "cell_type": "code",
      "execution_count": 58,
      "metadata": {
        "id": "iQQ8B0wusiqH"
      },
      "outputs": [],
      "source": [
        "saveResult(y_pred, 'sample_submission_trial7.csv')"
      ]
    },
    {
      "cell_type": "markdown",
      "metadata": {
        "id": "dd32KpnZ5SFx"
      },
      "source": [
        "## Eighth trial"
      ]
    },
    {
      "cell_type": "markdown",
      "metadata": {
        "id": "SOCMNMK1aApv"
      },
      "source": [
        "thoughts and observations for trial 7, plan for trial 8: \n",
        "\n",
        "<br/>\n",
        "\n",
        "I used **Graph Neural Network** as this task is a bioassay task for anticancer activity prediction, where each chemical compound is represented as a graph.\n",
        "\n",
        "I used this Graph Neural Network **with the Up-Sampled data**, in addition to applying one of the **GCN aggregation mechanisms** by tuning the message_passing mechanisms and **configure the message passing style to be GNN_FiLM**\n",
        "\n",
        "After declaring the GNNInput, I defined the hyperparameters for GNN layer by loading the **defualt hyperparameters of GNN_FiLM** and set **`hidden_dim` to be 32** which represent the size of the output of all message passing layers, and **configure all the parameters that needed by GNN_FiLM**\n",
        "\n",
        "then adding Graph Neural Network layer with the defined hyperparameters and calculating segmented mean based on segment_ids\n",
        "\n",
        "Finally, define the output layer of the model then building and compiling the model using **BinaryCrossentropy** for loss and the **AUC metric** to measure the performance of the network.\n",
        "\n",
        "<br/>\n",
        "\n",
        "While fitting the model I specified the value of batch size to be 16 and the value of epochs to be 10 and used the `validation_set` to validate our model\n",
        "\n",
        "<br/>\n",
        "\n",
        "From the result, we can say that the result of this trial is mush lower than other models that applying the GCN aggregation mechanisms\n",
        "\n"
      ]
    },
    {
      "cell_type": "markdown",
      "metadata": {
        "id": "GrGR3b145SF6"
      },
      "source": [
        "### Building the model"
      ]
    },
    {
      "cell_type": "code",
      "execution_count": 59,
      "metadata": {
        "colab": {
          "base_uri": "https://localhost:8080/"
        },
        "id": "lqKDvHSr5SF7",
        "outputId": "eea62379-e724-4fa7-80b1-241ae910b252"
      },
      "outputs": [
        {
          "name": "stdout",
          "output_type": "stream",
          "text": [
            "Model: \"model_6\"\n",
            "__________________________________________________________________________________________________\n",
            " Layer (type)                   Output Shape         Param #     Connected to                     \n",
            "==================================================================================================\n",
            " input_21 (InputLayer)          [(None,)]            0           []                               \n",
            "                                                                                                  \n",
            " input_19 (InputLayer)          [(None,)]            0           []                               \n",
            "                                                                                                  \n",
            " tf.math.reduce_max_6 (TFOpLamb  ()                  0           ['input_21[0][0]']               \n",
            " da)                                                                                              \n",
            "                                                                                                  \n",
            " embedding_6 (Embedding)        (None, 20)           10000       ['input_19[0][0]']               \n",
            "                                                                                                  \n",
            " input_20 (InputLayer)          [(None, 2)]          0           []                               \n",
            "                                                                                                  \n",
            " tf.__operators__.add_6 (TFOpLa  ()                  0           ['tf.math.reduce_max_6[0][0]']   \n",
            " mbda)                                                                                            \n",
            "                                                                                                  \n",
            " gnn_6 (GNN)                    (None, 32)           7040        ['embedding_6[0][0]',            \n",
            "                                                                  'input_20[0][0]',               \n",
            "                                                                  'input_21[0][0]',               \n",
            "                                                                  'tf.__operators__.add_6[0][0]'] \n",
            "                                                                                                  \n",
            " tf.math.segment_mean_6 (TFOpLa  (None, 32)          0           ['gnn_6[0][0]',                  \n",
            " mbda)                                                            'input_21[0][0]']               \n",
            "                                                                                                  \n",
            " dense_6 (Dense)                (None, 1)            33          ['tf.math.segment_mean_6[0][0]'] \n",
            "                                                                                                  \n",
            "==================================================================================================\n",
            "Total params: 17,073\n",
            "Trainable params: 17,073\n",
            "Non-trainable params: 0\n",
            "__________________________________________________________________________________________________\n"
          ]
        }
      ],
      "source": [
        "data = keras.Input(batch_shape=(None,))\n",
        "\n",
        "# the first dim is different to the previous one. it is the total number of edges in this batch\n",
        "edge = keras.Input(batch_shape=(None, 2), dtype=tf.int32)\n",
        "node2graph = keras.Input(batch_shape=(None,), dtype=tf.int32)\n",
        "embeded = Embedding(tokenizer.num_words, 20)(data)\n",
        "\n",
        "# number of graphs (number of samples)\n",
        "num_graph = tf.reduce_max(node2graph)+1\n",
        "\n",
        "# declare the GNNInput that take the features of node, the edge, the created list 'node2graph', and number of graphs (number of samples)\n",
        "gnn_input = GNNInput(\n",
        "    node_features = embeded,\n",
        "    adjacency_lists = (edge,),\n",
        "    node_to_graph_map = node2graph, \n",
        "    num_graphs = num_graph,\n",
        ")\n",
        "\n",
        "\n",
        "# configure the hyperparameters of GNN layers\n",
        "# https://github.com/microsoft/tf2-gnn/blob/master/tf2_gnn/layers/gnn.py\n",
        "# \n",
        "# frist load the defualt hyperparameters of GNN_FiLM\n",
        "params = GNN_FiLM.get_default_hyperparameters()\n",
        "# sets the size of the output of all message passing layers\n",
        "params[\"hidden_dim\"] = 32\n",
        "# configures the parameters that needed by GNN_FiLM\n",
        "params['num_layers'] = 4\n",
        "params['dense_every_num_layers'] = 2\n",
        "params['residual_every_num_layers'] = 2\n",
        "params['use_inter_layer_layernorm'] = 2\n",
        "params['initial_node_representation_activation'] = 'tanh'\n",
        "params['dense_intermediate_layer_activation'] = 'tanh'\n",
        "params['message_calculation_class'] = 'RGCN'\n",
        "params['global_exchange_mode'] = 'gru'   # has to be one of 'mean', 'mlp', 'gru'!\n",
        "params['global_exchange_every_num_layers'] = 1000\n",
        "params['global_exchange_weighting_fun'] = 'softmax'\n",
        "params['global_exchange_num_heads'] = 4\n",
        "params['global_exchange_dropout_rate'] = 0.2\n",
        "params['layer_input_dropout_rate'] = 0.2\n",
        "\n",
        "# Implements a deep Graph Neural Network\n",
        "gnn_layer = GNN(params)\n",
        "gnn_out = gnn_layer(gnn_input)\n",
        "\n",
        "\n",
        "\n",
        "# Computes the mean along segments of a tensor\n",
        "# https://www.tensorflow.org/api_docs/python/tf/math/segment_mean\n",
        "avg = segment_mean(\n",
        "    data = gnn_out,\n",
        "    segment_ids = node2graph\n",
        ")\n",
        "\n",
        "# Define the out put layer of the model\n",
        "pred = Dense(1, activation='sigmoid')(avg)\n",
        "\n",
        "\n",
        "# Creating the model\n",
        "model = Model(\n",
        "    inputs = {\n",
        "        'data': data,\n",
        "        'edges': edge,\n",
        "        'node2grah': node2graph,\n",
        "    },\n",
        "    outputs = pred\n",
        ")\n",
        "model.summary()"
      ]
    },
    {
      "cell_type": "code",
      "execution_count": 60,
      "metadata": {
        "id": "KO7ALaZ45SF8"
      },
      "outputs": [],
      "source": [
        "model.compile(\n",
        "    loss='BinaryCrossentropy',\n",
        "    metrics=['AUC']\n",
        ")"
      ]
    },
    {
      "cell_type": "markdown",
      "metadata": {
        "id": "pI0jnU5t5SF9"
      },
      "source": [
        "### Model Training\n",
        "\n"
      ]
    },
    {
      "cell_type": "code",
      "execution_count": 61,
      "metadata": {
        "colab": {
          "base_uri": "https://localhost:8080/"
        },
        "id": "-14iyWP-5SF9",
        "outputId": "7ecc00bc-9593-4e39-f5d7-e6ffc9bd0f21"
      },
      "outputs": [
        {
          "name": "stdout",
          "output_type": "stream",
          "text": [
            "Epoch 1/10\n",
            "2530/2530 [==============================] - 46s 17ms/step - loss: 0.6344 - auc: 0.6929 - val_loss: 0.6153 - val_auc: 0.7222\n",
            "Epoch 2/10\n",
            "2530/2530 [==============================] - 43s 17ms/step - loss: 0.6107 - auc: 0.7294 - val_loss: 0.6097 - val_auc: 0.7593\n",
            "Epoch 3/10\n",
            "2530/2530 [==============================] - 43s 17ms/step - loss: 0.5949 - auc: 0.7497 - val_loss: 0.5935 - val_auc: 0.7674\n",
            "Epoch 4/10\n",
            "2530/2530 [==============================] - 43s 17ms/step - loss: 0.5799 - auc: 0.7658 - val_loss: 0.5705 - val_auc: 0.7865\n",
            "Epoch 5/10\n",
            "2530/2530 [==============================] - 43s 17ms/step - loss: 0.5710 - auc: 0.7779 - val_loss: 0.5553 - val_auc: 0.7973\n",
            "Epoch 6/10\n",
            "2530/2530 [==============================] - 43s 17ms/step - loss: 0.5629 - auc: 0.7859 - val_loss: 0.5450 - val_auc: 0.8082\n",
            "Epoch 7/10\n",
            "2530/2530 [==============================] - 43s 17ms/step - loss: 0.5558 - auc: 0.7939 - val_loss: 0.5375 - val_auc: 0.8101\n",
            "Epoch 8/10\n",
            "2530/2530 [==============================] - 43s 17ms/step - loss: 0.5528 - auc: 0.7968 - val_loss: 0.5345 - val_auc: 0.8165\n",
            "Epoch 9/10\n",
            "2530/2530 [==============================] - 43s 17ms/step - loss: 0.5488 - auc: 0.8008 - val_loss: 0.5329 - val_auc: 0.8181\n",
            "Epoch 10/10\n",
            "2530/2530 [==============================] - 43s 17ms/step - loss: 0.5480 - auc: 0.8036 - val_loss: 0.5348 - val_auc: 0.8193\n"
          ]
        },
        {
          "data": {
            "text/plain": [
              "<keras.callbacks.History at 0x7f3dc0bc5050>"
            ]
          },
          "execution_count": 61,
          "metadata": {},
          "output_type": "execute_result"
        }
      ],
      "source": [
        "batch_size = 16\n",
        "\n",
        "# calculate steps_per_epoch for training and validation data\n",
        "num_batchs = math.ceil(len(training_set) / batch_size)\n",
        "num_batchs_validation = math.ceil(len(validation_set) / batch_size)\n",
        "\n",
        "# training the model for 5 epochs\n",
        "model.fit(\n",
        "    gen_batch(\n",
        "        training_set, batch_size=batch_size, repeat=True\n",
        "    ),\n",
        "    steps_per_epoch = num_batchs,\n",
        "    epochs = 10,\n",
        "    validation_data = gen_batch(\n",
        "        validation_set, batch_size=16, repeat=True\n",
        "    ),\n",
        "    validation_steps = num_batchs_validation,\n",
        ")"
      ]
    },
    {
      "cell_type": "markdown",
      "metadata": {
        "id": "53yoelOq5SF9"
      },
      "source": [
        "### Predition & Saving results"
      ]
    },
    {
      "cell_type": "code",
      "execution_count": 62,
      "metadata": {
        "id": "VsI3o22j5SF9"
      },
      "outputs": [],
      "source": [
        "y_pred = model.predict(\n",
        "    gen_batch(test, batch_size=16, shuffle=False)\n",
        ")\n",
        "y_pred = np.reshape(y_pred, -1)\n"
      ]
    },
    {
      "cell_type": "code",
      "execution_count": 63,
      "metadata": {
        "id": "eQC1NdsS5SF9"
      },
      "outputs": [],
      "source": [
        "saveResult(y_pred, 'sample_submission_trial8.csv')"
      ]
    },
    {
      "cell_type": "markdown",
      "metadata": {
        "id": "2ISNbZaKDX80"
      },
      "source": [
        "## As the previous trails cover all possible GCN aggregation mechanisms (aka message_passing mechanisms) used in the graph convolution layer represented in Graph Neural Networks documentation: https://github.com/microsoft/tf2-gnn\n",
        "\n",
        "## And out of all trials the best two trails that give the highest accuracy are : Trial_3 & Trial_7\n",
        "\n",
        "## The following and last two trials will take these best models and adjust thier hyperparamters to achieve better accuracy "
      ]
    },
    {
      "cell_type": "markdown",
      "metadata": {
        "id": "sSkUU0KVZ6W5"
      },
      "source": [
        "## Ninth trial"
      ]
    },
    {
      "cell_type": "markdown",
      "metadata": {
        "id": "HkhJqUX7bFrC"
      },
      "source": [
        "thoughts and observations for trial 8, plan for trial 9:\n",
        "\n",
        "<br/>\n",
        "\n",
        "In this trial I used **the same model that used in the Third trial** which is **Graph Neural Network with message_passing mechanisms equals to GGNN**\n",
        "after changing its hyperparameter by setting `hidden_dim` to be 16 instead of 32 and test the model and found that it decreased the accuracy, so I **changed the `hidden_dim` agian to be 64**and this help in improving the model result\n",
        "\n",
        "\n",
        "From the result, we can say that tuning hyperparameters produce better results\n",
        "\n"
      ]
    },
    {
      "cell_type": "markdown",
      "metadata": {
        "id": "MK0zK1IZZ6XC"
      },
      "source": [
        "### Building the model"
      ]
    },
    {
      "cell_type": "code",
      "execution_count": 67,
      "metadata": {
        "colab": {
          "base_uri": "https://localhost:8080/"
        },
        "id": "oE1SwqkQZ6XD",
        "outputId": "fdf17a11-05c2-4daf-8159-a2479b2a7976"
      },
      "outputs": [
        {
          "name": "stdout",
          "output_type": "stream",
          "text": [
            "Model: \"model_8\"\n",
            "__________________________________________________________________________________________________\n",
            " Layer (type)                   Output Shape         Param #     Connected to                     \n",
            "==================================================================================================\n",
            " input_27 (InputLayer)          [(None,)]            0           []                               \n",
            "                                                                                                  \n",
            " input_25 (InputLayer)          [(None,)]            0           []                               \n",
            "                                                                                                  \n",
            " tf.math.reduce_max_8 (TFOpLamb  ()                  0           ['input_27[0][0]']               \n",
            " da)                                                                                              \n",
            "                                                                                                  \n",
            " embedding_8 (Embedding)        (None, 20)           10000       ['input_25[0][0]']               \n",
            "                                                                                                  \n",
            " input_26 (InputLayer)          [(None, 2)]          0           []                               \n",
            "                                                                                                  \n",
            " tf.__operators__.add_8 (TFOpLa  ()                  0           ['tf.math.reduce_max_8[0][0]']   \n",
            " mbda)                                                                                            \n",
            "                                                                                                  \n",
            " gnn_8 (GNN)                    (None, 64)           171392      ['embedding_8[0][0]',            \n",
            "                                                                  'input_26[0][0]',               \n",
            "                                                                  'input_27[0][0]',               \n",
            "                                                                  'tf.__operators__.add_8[0][0]'] \n",
            "                                                                                                  \n",
            " tf.math.segment_mean_8 (TFOpLa  (None, 64)          0           ['gnn_8[0][0]',                  \n",
            " mbda)                                                            'input_27[0][0]']               \n",
            "                                                                                                  \n",
            " dense_8 (Dense)                (None, 1)            65          ['tf.math.segment_mean_8[0][0]'] \n",
            "                                                                                                  \n",
            "==================================================================================================\n",
            "Total params: 181,457\n",
            "Trainable params: 181,457\n",
            "Non-trainable params: 0\n",
            "__________________________________________________________________________________________________\n"
          ]
        }
      ],
      "source": [
        "data = keras.Input(batch_shape=(None,))\n",
        "\n",
        "# the first dim is different to the previous one. it is the total number of edges in this batch\n",
        "edge = keras.Input(batch_shape=(None, 2), dtype=tf.int32)\n",
        "node2graph = keras.Input(batch_shape=(None,), dtype=tf.int32)\n",
        "embeded = Embedding(tokenizer.num_words, 20)(data)\n",
        "\n",
        "# number of graphs (number of samples)\n",
        "num_graph = tf.reduce_max(node2graph)+1\n",
        "\n",
        "# declare the GNNInput that take the features of node, the edge, the created list 'node2graph', and number of graphs (number of samples)\n",
        "gnn_input = GNNInput(\n",
        "    node_features=embeded,\n",
        "    adjacency_lists=(edge,),\n",
        "    node_to_graph_map=node2graph, \n",
        "    num_graphs=num_graph,\n",
        ")\n",
        "\n",
        "\n",
        "# configure the hyperparameters of GNN layers\n",
        "# https://github.com/microsoft/tf2-gnn/blob/master/tf2_gnn/layers/gnn.py\n",
        "# \n",
        "# frist load the defualt hyperparameters\n",
        "params = GNN.get_default_hyperparameters()\n",
        "# sets the size of the output of all message passing layers\n",
        "params[\"hidden_dim\"] = 64\n",
        "# configures the message passing style to be GGNN (Gated Graph Neural Networks)\n",
        "params['message_calculation_class'] = 'GGNN'\n",
        "\n",
        "# Implements a deep Graph Neural Network\n",
        "gnn_layer = GNN(params)\n",
        "gnn_out = gnn_layer(gnn_input)\n",
        "\n",
        "\n",
        "\n",
        "# Computes the mean along segments of a tensor\n",
        "avg = segment_mean(\n",
        "    data = gnn_out,\n",
        "    segment_ids = node2graph\n",
        ")\n",
        "\n",
        "# Define the out put layer of the model\n",
        "pred = Dense(1, activation='sigmoid')(avg)\n",
        "\n",
        "\n",
        "# Creating the model\n",
        "model = Model(\n",
        "    inputs={\n",
        "        'data': data,\n",
        "        'edges': edge,\n",
        "        'node2grah': node2graph,\n",
        "    },\n",
        "    outputs = pred\n",
        ")\n",
        "model.summary()"
      ]
    },
    {
      "cell_type": "code",
      "execution_count": 68,
      "metadata": {
        "id": "Y26LN2kVZ6XD"
      },
      "outputs": [],
      "source": [
        "model.compile(\n",
        "    loss='BinaryCrossentropy',\n",
        "    metrics=['AUC']\n",
        ")"
      ]
    },
    {
      "cell_type": "markdown",
      "metadata": {
        "id": "1riGdpgsZ6XD"
      },
      "source": [
        "### Model Training\n",
        "\n"
      ]
    },
    {
      "cell_type": "code",
      "execution_count": 69,
      "metadata": {
        "colab": {
          "base_uri": "https://localhost:8080/"
        },
        "id": "9nTJthr3Z6XE",
        "outputId": "f78e3e1e-1c03-4c60-d5a8-56494709f58d"
      },
      "outputs": [
        {
          "name": "stdout",
          "output_type": "stream",
          "text": [
            "Epoch 1/10\n",
            "2530/2530 [==============================] - 151s 58ms/step - loss: 0.6035 - auc: 0.7365 - val_loss: 0.5916 - val_auc: 0.7691\n",
            "Epoch 2/10\n",
            "2530/2530 [==============================] - 145s 57ms/step - loss: 0.5452 - auc: 0.7990 - val_loss: 0.5173 - val_auc: 0.8289\n",
            "Epoch 3/10\n",
            "2530/2530 [==============================] - 149s 59ms/step - loss: 0.5089 - auc: 0.8299 - val_loss: 0.5032 - val_auc: 0.8467\n",
            "Epoch 4/10\n",
            "2530/2530 [==============================] - 145s 57ms/step - loss: 0.4788 - auc: 0.8524 - val_loss: 0.4730 - val_auc: 0.8569\n",
            "Epoch 5/10\n",
            "2530/2530 [==============================] - 146s 58ms/step - loss: 0.4516 - auc: 0.8705 - val_loss: 0.4135 - val_auc: 0.8937\n",
            "Epoch 6/10\n",
            "2530/2530 [==============================] - 151s 60ms/step - loss: 0.4193 - auc: 0.8899 - val_loss: 0.4127 - val_auc: 0.8958\n",
            "Epoch 7/10\n",
            "2530/2530 [==============================] - 147s 58ms/step - loss: 0.3912 - auc: 0.9048 - val_loss: 0.3934 - val_auc: 0.9069\n",
            "Epoch 8/10\n",
            "2530/2530 [==============================] - 145s 57ms/step - loss: 0.3676 - auc: 0.9161 - val_loss: 0.3700 - val_auc: 0.9222\n",
            "Epoch 9/10\n",
            "2530/2530 [==============================] - 142s 56ms/step - loss: 0.3457 - auc: 0.9255 - val_loss: 0.3230 - val_auc: 0.9373\n",
            "Epoch 10/10\n",
            "2530/2530 [==============================] - 141s 56ms/step - loss: 0.3258 - auc: 0.9336 - val_loss: 0.3200 - val_auc: 0.9467\n"
          ]
        },
        {
          "data": {
            "text/plain": [
              "<keras.callbacks.History at 0x7f3dbba50690>"
            ]
          },
          "execution_count": 69,
          "metadata": {},
          "output_type": "execute_result"
        }
      ],
      "source": [
        "batch_size = 16\n",
        "\n",
        "# calculate steps_per_epoch for training and validation data\n",
        "num_batchs = math.ceil(len(training_set) / batch_size)\n",
        "num_batchs_validation = math.ceil(len(validation_set) / batch_size)\n",
        "\n",
        "# training the model for 5 epochs\n",
        "model.fit(\n",
        "    gen_batch(\n",
        "        training_set, batch_size=batch_size, repeat=True\n",
        "    ),\n",
        "    steps_per_epoch = num_batchs,\n",
        "    epochs = 10,\n",
        "    validation_data = gen_batch(\n",
        "        validation_set, batch_size=16, repeat=True\n",
        "    ),\n",
        "    validation_steps = num_batchs_validation,\n",
        ")"
      ]
    },
    {
      "cell_type": "markdown",
      "metadata": {
        "id": "HMyTWE8kZ6XE"
      },
      "source": [
        "### Predition & Saving results"
      ]
    },
    {
      "cell_type": "code",
      "execution_count": 70,
      "metadata": {
        "id": "IVeU_p88Z6XE"
      },
      "outputs": [],
      "source": [
        "y_pred = model.predict(\n",
        "    gen_batch(test, batch_size=16, shuffle=False)\n",
        ")\n",
        "y_pred = np.reshape(y_pred, -1)\n"
      ]
    },
    {
      "cell_type": "code",
      "execution_count": 71,
      "metadata": {
        "id": "v4nI-bH4Z6XE"
      },
      "outputs": [],
      "source": [
        "saveResult(y_pred, 'sample_submission_trial9.csv')"
      ]
    },
    {
      "cell_type": "markdown",
      "metadata": {
        "id": "hl6uNvUgZ6XE"
      },
      "source": [
        "## Tenth trial"
      ]
    },
    {
      "cell_type": "markdown",
      "metadata": {
        "id": "6zC53UkSdPIO"
      },
      "source": [
        "thoughts and observations for trial 9, plan for trial 10:\n",
        "\n",
        "<br/>\n",
        "\n",
        "In this trial I used **the same model that used in the Seventh trial** which is **Graph Neural Network with message_passing mechanisms equals to GNN_Edge_MLP**\n",
        "after changing its hyperparameter by setting `hidden_dim` to be 64 instead of 32 and set `global_exchange_mode` to be 'mlp'instead of 'gru', also set `layer_input_dropout_rate` to be 0.1 instead of 0.2and found that this help in improving the model result\n",
        "\n",
        "\n",
        "From the result, we can say that tuning hyperparameters produce better results\n",
        "\n"
      ]
    },
    {
      "cell_type": "markdown",
      "metadata": {
        "id": "vHzTTv0-Z6XE"
      },
      "source": [
        "### Building the model"
      ]
    },
    {
      "cell_type": "code",
      "execution_count": 72,
      "metadata": {
        "colab": {
          "base_uri": "https://localhost:8080/"
        },
        "id": "sKz-GpDRZ6XE",
        "outputId": "981ac05d-4412-4ad6-bffa-f54d58ad47cb"
      },
      "outputs": [
        {
          "name": "stdout",
          "output_type": "stream",
          "text": [
            "Model: \"model_9\"\n",
            "__________________________________________________________________________________________________\n",
            " Layer (type)                   Output Shape         Param #     Connected to                     \n",
            "==================================================================================================\n",
            " input_30 (InputLayer)          [(None,)]            0           []                               \n",
            "                                                                                                  \n",
            " input_28 (InputLayer)          [(None,)]            0           []                               \n",
            "                                                                                                  \n",
            " tf.math.reduce_max_9 (TFOpLamb  ()                  0           ['input_30[0][0]']               \n",
            " da)                                                                                              \n",
            "                                                                                                  \n",
            " embedding_9 (Embedding)        (None, 20)           10000       ['input_28[0][0]']               \n",
            "                                                                                                  \n",
            " input_29 (InputLayer)          [(None, 2)]          0           []                               \n",
            "                                                                                                  \n",
            " tf.__operators__.add_9 (TFOpLa  ()                  0           ['tf.math.reduce_max_9[0][0]']   \n",
            " mbda)                                                                                            \n",
            "                                                                                                  \n",
            " gnn_9 (GNN)                    (None, 64)           59136       ['embedding_9[0][0]',            \n",
            "                                                                  'input_29[0][0]',               \n",
            "                                                                  'input_30[0][0]',               \n",
            "                                                                  'tf.__operators__.add_9[0][0]'] \n",
            "                                                                                                  \n",
            " tf.math.segment_mean_9 (TFOpLa  (None, 64)          0           ['gnn_9[0][0]',                  \n",
            " mbda)                                                            'input_30[0][0]']               \n",
            "                                                                                                  \n",
            " dense_9 (Dense)                (None, 1)            65          ['tf.math.segment_mean_9[0][0]'] \n",
            "                                                                                                  \n",
            "==================================================================================================\n",
            "Total params: 69,201\n",
            "Trainable params: 69,201\n",
            "Non-trainable params: 0\n",
            "__________________________________________________________________________________________________\n"
          ]
        }
      ],
      "source": [
        "data = keras.Input(batch_shape=(None,))\n",
        "\n",
        "# the first dim is different to the previous one. it is the total number of edges in this batch\n",
        "edge = keras.Input(batch_shape=(None, 2), dtype=tf.int32)\n",
        "node2graph = keras.Input(batch_shape=(None,), dtype=tf.int32)\n",
        "embeded = Embedding(tokenizer.num_words, 20)(data)\n",
        "\n",
        "# number of graphs (number of samples)\n",
        "num_graph = tf.reduce_max(node2graph)+1\n",
        "\n",
        "# declare the GNNInput that take the features of node, the edge, the created list 'node2graph', and number of graphs (number of samples)\n",
        "gnn_input = GNNInput(\n",
        "    node_features = embeded,\n",
        "    adjacency_lists = (edge,),\n",
        "    node_to_graph_map = node2graph, \n",
        "    num_graphs = num_graph,\n",
        ")\n",
        "\n",
        "\n",
        "# configure the hyperparameters of GNN layers\n",
        "# https://github.com/microsoft/tf2-gnn/blob/master/tf2_gnn/layers/gnn.py\n",
        "# \n",
        "# frist load the defualt hyperparameters of GNN_Edge_MLP\n",
        "params = GNN_Edge_MLP.get_default_hyperparameters()\n",
        "# sets the size of the output of all message passing layers\n",
        "params[\"hidden_dim\"] = 64\n",
        "# configures the parameters that needed by GNN_Edge_MLP\n",
        "params['num_layers'] = 4\n",
        "params['dense_every_num_layers'] = 2\n",
        "params['residual_every_num_layers'] = 2\n",
        "params['use_inter_layer_layernorm'] = 2\n",
        "params['initial_node_representation_activation'] = 'tanh'\n",
        "params['dense_intermediate_layer_activation'] = 'tanh'\n",
        "params['message_calculation_class'] = 'RGCN'\n",
        "params['global_exchange_mode'] = 'mlp'   # has to be one of 'mean', 'mlp', 'gru'!\n",
        "params['global_exchange_every_num_layers'] = 1000\n",
        "params['global_exchange_weighting_fun'] = 'softmax'\n",
        "params['global_exchange_num_heads'] = 4\n",
        "params['global_exchange_dropout_rate'] = 0.2\n",
        "params['layer_input_dropout_rate'] = 0.1\n",
        "\n",
        "# Implements a deep Graph Neural Network\n",
        "gnn_layer = GNN(params)\n",
        "gnn_out = gnn_layer(gnn_input)\n",
        "\n",
        "\n",
        "\n",
        "# Computes the mean along segments of a tensor\n",
        "# https://www.tensorflow.org/api_docs/python/tf/math/segment_mean\n",
        "avg = segment_mean(\n",
        "    data = gnn_out,\n",
        "    segment_ids = node2graph\n",
        ")\n",
        "\n",
        "# Define the out put layer of the model\n",
        "pred = Dense(1, activation='sigmoid')(avg)\n",
        "\n",
        "\n",
        "# Creating the model\n",
        "model = Model(\n",
        "    inputs = {\n",
        "        'data': data,\n",
        "        'edges': edge,\n",
        "        'node2grah': node2graph,\n",
        "    },\n",
        "    outputs = pred\n",
        ")\n",
        "model.summary()"
      ]
    },
    {
      "cell_type": "code",
      "execution_count": 73,
      "metadata": {
        "id": "MgZX2ir5Z6XF"
      },
      "outputs": [],
      "source": [
        "model.compile(\n",
        "    loss='BinaryCrossentropy',\n",
        "    metrics=['AUC']\n",
        ")"
      ]
    },
    {
      "cell_type": "markdown",
      "metadata": {
        "id": "4pLUEkKeZ6XF"
      },
      "source": [
        "### Model Training\n",
        "\n"
      ]
    },
    {
      "cell_type": "code",
      "execution_count": 74,
      "metadata": {
        "colab": {
          "base_uri": "https://localhost:8080/"
        },
        "id": "xPOU2aj4Z6XF",
        "outputId": "b6874b8b-a09e-4982-ca7e-d2d58c52f4e1"
      },
      "outputs": [
        {
          "name": "stdout",
          "output_type": "stream",
          "text": [
            "Epoch 1/10\n",
            "2530/2530 [==============================] - 93s 36ms/step - loss: 0.5797 - auc: 0.7673 - val_loss: 0.5353 - val_auc: 0.8168\n",
            "Epoch 2/10\n",
            "2530/2530 [==============================] - 89s 35ms/step - loss: 0.5276 - auc: 0.8218 - val_loss: 0.4945 - val_auc: 0.8495\n",
            "Epoch 3/10\n",
            "2530/2530 [==============================] - 89s 35ms/step - loss: 0.4993 - auc: 0.8458 - val_loss: 0.4754 - val_auc: 0.8664\n",
            "Epoch 4/10\n",
            "2530/2530 [==============================] - 89s 35ms/step - loss: 0.4757 - auc: 0.8625 - val_loss: 0.4547 - val_auc: 0.8733\n",
            "Epoch 5/10\n",
            "2530/2530 [==============================] - 89s 35ms/step - loss: 0.4543 - auc: 0.8756 - val_loss: 0.4413 - val_auc: 0.8868\n",
            "Epoch 6/10\n",
            "2530/2530 [==============================] - 90s 35ms/step - loss: 0.4378 - auc: 0.8855 - val_loss: 0.4189 - val_auc: 0.8979\n",
            "Epoch 7/10\n",
            "2530/2530 [==============================] - 89s 35ms/step - loss: 0.4262 - auc: 0.8916 - val_loss: 0.4095 - val_auc: 0.9031\n",
            "Epoch 8/10\n",
            "2530/2530 [==============================] - 90s 35ms/step - loss: 0.4153 - auc: 0.8983 - val_loss: 0.3926 - val_auc: 0.9098\n",
            "Epoch 9/10\n",
            "2530/2530 [==============================] - 89s 35ms/step - loss: 0.4016 - auc: 0.9056 - val_loss: 0.3911 - val_auc: 0.9143\n",
            "Epoch 10/10\n",
            "2530/2530 [==============================] - 89s 35ms/step - loss: 0.3967 - auc: 0.9084 - val_loss: 0.4346 - val_auc: 0.9055\n"
          ]
        },
        {
          "data": {
            "text/plain": [
              "<keras.callbacks.History at 0x7f3dbbc20690>"
            ]
          },
          "execution_count": 74,
          "metadata": {},
          "output_type": "execute_result"
        }
      ],
      "source": [
        "batch_size = 16\n",
        "\n",
        "# calculate steps_per_epoch for training and validation data\n",
        "num_batchs = math.ceil(len(training_set) / batch_size)\n",
        "num_batchs_validation = math.ceil(len(validation_set) / batch_size)\n",
        "\n",
        "# training the model for 5 epochs\n",
        "model.fit(\n",
        "    gen_batch(\n",
        "        training_set, batch_size=batch_size, repeat=True\n",
        "    ),\n",
        "    steps_per_epoch = num_batchs,\n",
        "    epochs = 10,\n",
        "    validation_data = gen_batch(\n",
        "        validation_set, batch_size=16, repeat=True\n",
        "    ),\n",
        "    validation_steps = num_batchs_validation,\n",
        ")"
      ]
    },
    {
      "cell_type": "markdown",
      "metadata": {
        "id": "z-nZx_B-Z6XF"
      },
      "source": [
        "### Predition & Saving results"
      ]
    },
    {
      "cell_type": "code",
      "execution_count": 75,
      "metadata": {
        "id": "rok8Ha5jZ6XF"
      },
      "outputs": [],
      "source": [
        "y_pred = model.predict(\n",
        "    gen_batch(test, batch_size=16, shuffle=False)\n",
        ")\n",
        "y_pred = np.reshape(y_pred, -1)\n"
      ]
    },
    {
      "cell_type": "code",
      "execution_count": 78,
      "metadata": {
        "id": "sax0K1eCZ6XF"
      },
      "outputs": [],
      "source": [
        "saveResult(y_pred, 'sample_submission_trial10.csv')"
      ]
    },
    {
      "cell_type": "markdown",
      "metadata": {
        "id": "os5YUiTX2UT5"
      },
      "source": [
        "# Questions"
      ]
    },
    {
      "cell_type": "markdown",
      "metadata": {
        "id": "D_AJ5LIz2Vz4"
      },
      "source": [
        "## 🌈 Based on the provided template, describe the format of the input file (sdf file)\n"
      ]
    },
    {
      "cell_type": "markdown",
      "metadata": {
        "id": "_SKwq3M22WBI"
      },
      "source": [
        "One of the most widely used industry standards are chemical table file formats, like the Structure Data Format (SDF) files. They are text files that adhere to a strict format for representing multiple chemical structure records and associated data fields. --Wikipedia\n",
        "\n",
        "<br/>\n",
        "\n",
        "\n",
        "---\n",
        "\n",
        "<br/>\n",
        "\n",
        "The input file is structure data file (SDF). It contains information about the chemical composition of a molecule. SDF file store information about position of individual atom in the chemical compound and also tells about the connections. Different molecules are delimited by &dollar;&dollar;&dollar;&dollar; expression.\n",
        "\n",
        "Each sample starts with header which tells about the name/title of the compound. Other sections includes information about Atom count, version number, connections etc. Atom block tells about the elements of the compound. Bond/Edge block tells about the bonding structure of the compound. These both blocks are used to get information about the compound and saving them in form of edges and nodes. Each node is the atom given in the chemical molecule.\n",
        "\n"
      ]
    },
    {
      "cell_type": "markdown",
      "metadata": {
        "id": "BSVJ0pbN2WNa"
      },
      "source": [
        "## 🌈 What are the input tensors to the neural network model (their meaning, not just symbol)? What is each of their dims and their meaning (e.g. batch_size)?"
      ]
    },
    {
      "cell_type": "markdown",
      "metadata": {
        "id": "QALa0PDz2qHU"
      },
      "source": [
        "The input tensors in this network are:\n",
        "\n",
        "- **data:** The data contains the nodes of the chemical compound in the tokenized form. Nodes for each compound are extracted, then they are tokenized using the tokenizer and finally padding is done using pad_sequence method. The shape for each batch is **[batch_size*max_len_nodes]**, where batch_size is the number of samples in the batch and max_len_nodes is the length of tokenized nodes after padding is done.\n",
        "\n",
        "- **edge:** edge is the input tensor which carries information about connections between atoms. The shape of edge is **[sum_of_all_edges,2]**. The sum_of_all_edges represents the sum(no. of edges of each sample) of the batch_size. For example in a batch of 3 samples, the number of edges in sample 1: 21, sample 2: 20 and sample 3: 40. So the size of edge tensor would be [81,2].\n",
        "\n",
        "- **node2graph:** It is the input tensor which is used for segmented mean and contains information about segmented ids. The shape for each batch is **[batch_size*max_len_nodes]**, where batch_size is the number of samples in the batch and max_len_nodes is the length of tokenized nodes after padding is done."
      ]
    },
    {
      "cell_type": "markdown",
      "metadata": {
        "id": "NYEqPag02qKZ"
      },
      "source": [
        "## 🌈 For each dim of gnn_out, what does it symbolize? For each dim of avg, what does it symbolize?"
      ]
    },
    {
      "cell_type": "markdown",
      "metadata": {
        "id": "dQZEq3Xc20z4"
      },
      "source": [
        "**gnn_out:** \n",
        "\n",
        "The gnn_out is of shape [batch_size_node_dimension,hidden layers], where batch_size_node_dimension is the dimension of the input data (node) vector (dimension of tokenized vector for the complete batch). It represents the aggregation output of the model for each hidden layer.\n",
        "\n",
        "\n",
        "<br/>\n",
        "\n",
        "---\n",
        "<br/>\n",
        "\n",
        "**avg:**\n",
        "\n",
        "Average takes the segmented mean of the gnn_out based on the segmented ids. For each sample in the batch_size, the output of gnn_out is [tokenized_vector_dimension, hidden_layers]. Each sample has one segment id. Thus the segment_mean takes the mean of all the output data in the gnn_out output and represents one sample with one number for each hidden layer. The final output of the avg tensor is of shape [batch_size, hidden_layer]. It is a way of collecting information for each sample and representing it in the form of mean data."
      ]
    },
    {
      "cell_type": "markdown",
      "metadata": {
        "id": "e98ZUbZm22OE"
      },
      "source": [
        "## 🌈 What is the difference between segment_mean and tf.reduce_mean? For each dim of pred, what does it symbolize?\n"
      ]
    },
    {
      "cell_type": "markdown",
      "metadata": {
        "id": "fanM0fTb22Wk"
      },
      "source": [
        "**segment_mean:** takes the mean of the data which have same segmented ids.\n",
        "\n",
        "**reduce_mean:** computes the mean of elements across dimensions of a tensor given the arguments.\n",
        "\n",
        "<br/>\n",
        "\n",
        "\n",
        "---\n",
        "\n",
        "<br/>\n",
        "\n",
        "**pred:** The final output (pred) tells about the probability of a chemical compound to be active for the cancer cell or not. The shape of pred is [batch_size,1]. Thus for each sample, the final output is a number which represents the probability associated with each chemical compound about its activity.\n",
        "\n"
      ]
    },
    {
      "cell_type": "markdown",
      "metadata": {
        "id": "Rp2Z5oe7N1M3"
      },
      "source": [
        "## 🌈 What is the motivation/theory/idea to use multiple gcn layers comparing to just one? How many layers were used in the template?\n"
      ]
    },
    {
      "cell_type": "markdown",
      "metadata": {
        "id": "ld9EKk6xN1NE"
      },
      "source": [
        "The template implements the default setting of the number of layers in the GCN network which is 4 as given in the documentaion. The default message passing method is RGCN (Relational Graph Convolutional Networks). Using multiple GCN helps in incorporating all the graph complexity properly and thus creates a better model."
      ]
    }
  ],
  "metadata": {
    "colab": {
      "collapsed_sections": [
        "SCZaTk6POkXF",
        "EG7iwHNbO_HM",
        "Lh4P8Pf2RtC7",
        "V88cNuLOSp7e",
        "3cNfm22JTIs9",
        "wUrv-fxXTPWj",
        "4yjhAPTaTYgP",
        "yzijuPO0fkKC",
        "_Qo-uOPBfrje",
        "2hzdweU6Bh7i",
        "-XrzCH4z6_ss",
        "CZOszu8Y7p1k",
        "CNRkgHlk0NBM",
        "NDA2aqmjSGZB",
        "QE3epz7Rbi9y",
        "-qnuEZ4GcDxd",
        "Q9uCc9tKkLdn",
        "OEVh6PirYiA-",
        "ruVRsMvcZjDD",
        "UB-r6sfjBYh9",
        "4XoapvMgZ64I",
        "IOrQOhNq5704",
        "vzOfMvms571G",
        "Wo6s0H6T_8I9",
        "e7MdVauh_8JL",
        "9ss9VFgs_88k",
        "srqqUWsO_88l",
        "eU2JZSlI_88m",
        "kM9bykVw_88n",
        "5jlpvXCoVXQh",
        "MZCCzThWVXQt",
        "sLmHWzu2VXQu",
        "AL4xn0HGVXQu",
        "MIfZY-a7g90Q",
        "xQt89uBIg90Q",
        "20Eaz4iOg90S",
        "FQLz0BdRg90T",
        "CblXIkqOsiqE",
        "NDpwkP6JsiqG",
        "Eerm39iEsiqH",
        "dd32KpnZ5SFx",
        "GrGR3b145SF6",
        "53yoelOq5SF9",
        "sSkUU0KVZ6W5",
        "MK0zK1IZZ6XC",
        "os5YUiTX2UT5",
        "D_AJ5LIz2Vz4",
        "BSVJ0pbN2WNa",
        "NYEqPag02qKZ",
        "e98ZUbZm22OE",
        "Rp2Z5oe7N1M3"
      ],
      "name": "Assignment 6.ipynb",
      "provenance": []
    },
    "kernelspec": {
      "display_name": "Python 3",
      "name": "python3"
    },
    "language_info": {
      "name": "python"
    },
    "widgets": {
      "application/vnd.jupyter.widget-state+json": {
        "0564a0534bd348919b2d449d4c75f4d9": {
          "model_module": "@jupyter-widgets/controls",
          "model_module_version": "1.5.0",
          "model_name": "HBoxModel",
          "state": {
            "_dom_classes": [],
            "_model_module": "@jupyter-widgets/controls",
            "_model_module_version": "1.5.0",
            "_model_name": "HBoxModel",
            "_view_count": null,
            "_view_module": "@jupyter-widgets/controls",
            "_view_module_version": "1.5.0",
            "_view_name": "HBoxView",
            "box_style": "",
            "children": [
              "IPY_MODEL_6b8cdb85a7a84fbca48633f233bb00df",
              "IPY_MODEL_610f674723db47dfa53dbc08a96cee05",
              "IPY_MODEL_45ca81f6d35f46608cd622a5db8a2dd2"
            ],
            "layout": "IPY_MODEL_7070e68979674461b7640e18d2b7aac4"
          }
        },
        "0807ef1d5bef440eab026169de642297": {
          "model_module": "@jupyter-widgets/controls",
          "model_module_version": "1.5.0",
          "model_name": "FloatProgressModel",
          "state": {
            "_dom_classes": [],
            "_model_module": "@jupyter-widgets/controls",
            "_model_module_version": "1.5.0",
            "_model_name": "FloatProgressModel",
            "_view_count": null,
            "_view_module": "@jupyter-widgets/controls",
            "_view_module_version": "1.5.0",
            "_view_name": "ProgressView",
            "bar_style": "success",
            "description": "",
            "description_tooltip": null,
            "layout": "IPY_MODEL_17d34751168445faa03fdcfeac1eff83",
            "max": 25024,
            "min": 0,
            "orientation": "horizontal",
            "style": "IPY_MODEL_add0bed843aa4ba8be6f413d7b23a213",
            "value": 25024
          }
        },
        "17d34751168445faa03fdcfeac1eff83": {
          "model_module": "@jupyter-widgets/base",
          "model_module_version": "1.2.0",
          "model_name": "LayoutModel",
          "state": {
            "_model_module": "@jupyter-widgets/base",
            "_model_module_version": "1.2.0",
            "_model_name": "LayoutModel",
            "_view_count": null,
            "_view_module": "@jupyter-widgets/base",
            "_view_module_version": "1.2.0",
            "_view_name": "LayoutView",
            "align_content": null,
            "align_items": null,
            "align_self": null,
            "border": null,
            "bottom": null,
            "display": null,
            "flex": null,
            "flex_flow": null,
            "grid_area": null,
            "grid_auto_columns": null,
            "grid_auto_flow": null,
            "grid_auto_rows": null,
            "grid_column": null,
            "grid_gap": null,
            "grid_row": null,
            "grid_template_areas": null,
            "grid_template_columns": null,
            "grid_template_rows": null,
            "height": null,
            "justify_content": null,
            "justify_items": null,
            "left": null,
            "margin": null,
            "max_height": null,
            "max_width": null,
            "min_height": null,
            "min_width": null,
            "object_fit": null,
            "object_position": null,
            "order": null,
            "overflow": null,
            "overflow_x": null,
            "overflow_y": null,
            "padding": null,
            "right": null,
            "top": null,
            "visibility": null,
            "width": null
          }
        },
        "344f757c297f4dec8643515679b98bd7": {
          "model_module": "@jupyter-widgets/base",
          "model_module_version": "1.2.0",
          "model_name": "LayoutModel",
          "state": {
            "_model_module": "@jupyter-widgets/base",
            "_model_module_version": "1.2.0",
            "_model_name": "LayoutModel",
            "_view_count": null,
            "_view_module": "@jupyter-widgets/base",
            "_view_module_version": "1.2.0",
            "_view_name": "LayoutView",
            "align_content": null,
            "align_items": null,
            "align_self": null,
            "border": null,
            "bottom": null,
            "display": null,
            "flex": null,
            "flex_flow": null,
            "grid_area": null,
            "grid_auto_columns": null,
            "grid_auto_flow": null,
            "grid_auto_rows": null,
            "grid_column": null,
            "grid_gap": null,
            "grid_row": null,
            "grid_template_areas": null,
            "grid_template_columns": null,
            "grid_template_rows": null,
            "height": null,
            "justify_content": null,
            "justify_items": null,
            "left": null,
            "margin": null,
            "max_height": null,
            "max_width": null,
            "min_height": null,
            "min_width": null,
            "object_fit": null,
            "object_position": null,
            "order": null,
            "overflow": null,
            "overflow_x": null,
            "overflow_y": null,
            "padding": null,
            "right": null,
            "top": null,
            "visibility": null,
            "width": null
          }
        },
        "45ca81f6d35f46608cd622a5db8a2dd2": {
          "model_module": "@jupyter-widgets/controls",
          "model_module_version": "1.5.0",
          "model_name": "HTMLModel",
          "state": {
            "_dom_classes": [],
            "_model_module": "@jupyter-widgets/controls",
            "_model_module_version": "1.5.0",
            "_model_name": "HTMLModel",
            "_view_count": null,
            "_view_module": "@jupyter-widgets/controls",
            "_view_module_version": "1.5.0",
            "_view_name": "HTMLView",
            "description": "",
            "description_tooltip": null,
            "layout": "IPY_MODEL_95e90162bf3045ccbde21a72b873c1a1",
            "placeholder": "​",
            "style": "IPY_MODEL_a4314f4295074f809549b59c68841ba5",
            "value": " 12326/12326 [00:01&lt;00:00, 9393.11it/s]"
          }
        },
        "53646c4ab376433a93fd7902a2cc0b12": {
          "model_module": "@jupyter-widgets/controls",
          "model_module_version": "1.5.0",
          "model_name": "HTMLModel",
          "state": {
            "_dom_classes": [],
            "_model_module": "@jupyter-widgets/controls",
            "_model_module_version": "1.5.0",
            "_model_name": "HTMLModel",
            "_view_count": null,
            "_view_module": "@jupyter-widgets/controls",
            "_view_module_version": "1.5.0",
            "_view_name": "HTMLView",
            "description": "",
            "description_tooltip": null,
            "layout": "IPY_MODEL_f740669a2ea240c99f187d45e698ae9c",
            "placeholder": "​",
            "style": "IPY_MODEL_6fbd187abf854d948f3d8af7313c2be6",
            "value": " 25024/25024 [00:03&lt;00:00, 9586.49it/s]"
          }
        },
        "610f674723db47dfa53dbc08a96cee05": {
          "model_module": "@jupyter-widgets/controls",
          "model_module_version": "1.5.0",
          "model_name": "FloatProgressModel",
          "state": {
            "_dom_classes": [],
            "_model_module": "@jupyter-widgets/controls",
            "_model_module_version": "1.5.0",
            "_model_name": "FloatProgressModel",
            "_view_count": null,
            "_view_module": "@jupyter-widgets/controls",
            "_view_module_version": "1.5.0",
            "_view_name": "ProgressView",
            "bar_style": "success",
            "description": "",
            "description_tooltip": null,
            "layout": "IPY_MODEL_344f757c297f4dec8643515679b98bd7",
            "max": 12326,
            "min": 0,
            "orientation": "horizontal",
            "style": "IPY_MODEL_c9189dbddec2457ea52f32f945e3af38",
            "value": 12326
          }
        },
        "65ee1c3638af49b894d3fbce6865cb73": {
          "model_module": "@jupyter-widgets/base",
          "model_module_version": "1.2.0",
          "model_name": "LayoutModel",
          "state": {
            "_model_module": "@jupyter-widgets/base",
            "_model_module_version": "1.2.0",
            "_model_name": "LayoutModel",
            "_view_count": null,
            "_view_module": "@jupyter-widgets/base",
            "_view_module_version": "1.2.0",
            "_view_name": "LayoutView",
            "align_content": null,
            "align_items": null,
            "align_self": null,
            "border": null,
            "bottom": null,
            "display": null,
            "flex": null,
            "flex_flow": null,
            "grid_area": null,
            "grid_auto_columns": null,
            "grid_auto_flow": null,
            "grid_auto_rows": null,
            "grid_column": null,
            "grid_gap": null,
            "grid_row": null,
            "grid_template_areas": null,
            "grid_template_columns": null,
            "grid_template_rows": null,
            "height": null,
            "justify_content": null,
            "justify_items": null,
            "left": null,
            "margin": null,
            "max_height": null,
            "max_width": null,
            "min_height": null,
            "min_width": null,
            "object_fit": null,
            "object_position": null,
            "order": null,
            "overflow": null,
            "overflow_x": null,
            "overflow_y": null,
            "padding": null,
            "right": null,
            "top": null,
            "visibility": null,
            "width": null
          }
        },
        "6b8cdb85a7a84fbca48633f233bb00df": {
          "model_module": "@jupyter-widgets/controls",
          "model_module_version": "1.5.0",
          "model_name": "HTMLModel",
          "state": {
            "_dom_classes": [],
            "_model_module": "@jupyter-widgets/controls",
            "_model_module_version": "1.5.0",
            "_model_name": "HTMLModel",
            "_view_count": null,
            "_view_module": "@jupyter-widgets/controls",
            "_view_module_version": "1.5.0",
            "_view_name": "HTMLView",
            "description": "",
            "description_tooltip": null,
            "layout": "IPY_MODEL_65ee1c3638af49b894d3fbce6865cb73",
            "placeholder": "​",
            "style": "IPY_MODEL_ccb6c86d21e6451797ff23f7c60703e5",
            "value": "100%"
          }
        },
        "6fbd187abf854d948f3d8af7313c2be6": {
          "model_module": "@jupyter-widgets/controls",
          "model_module_version": "1.5.0",
          "model_name": "DescriptionStyleModel",
          "state": {
            "_model_module": "@jupyter-widgets/controls",
            "_model_module_version": "1.5.0",
            "_model_name": "DescriptionStyleModel",
            "_view_count": null,
            "_view_module": "@jupyter-widgets/base",
            "_view_module_version": "1.2.0",
            "_view_name": "StyleView",
            "description_width": ""
          }
        },
        "7070e68979674461b7640e18d2b7aac4": {
          "model_module": "@jupyter-widgets/base",
          "model_module_version": "1.2.0",
          "model_name": "LayoutModel",
          "state": {
            "_model_module": "@jupyter-widgets/base",
            "_model_module_version": "1.2.0",
            "_model_name": "LayoutModel",
            "_view_count": null,
            "_view_module": "@jupyter-widgets/base",
            "_view_module_version": "1.2.0",
            "_view_name": "LayoutView",
            "align_content": null,
            "align_items": null,
            "align_self": null,
            "border": null,
            "bottom": null,
            "display": null,
            "flex": null,
            "flex_flow": null,
            "grid_area": null,
            "grid_auto_columns": null,
            "grid_auto_flow": null,
            "grid_auto_rows": null,
            "grid_column": null,
            "grid_gap": null,
            "grid_row": null,
            "grid_template_areas": null,
            "grid_template_columns": null,
            "grid_template_rows": null,
            "height": null,
            "justify_content": null,
            "justify_items": null,
            "left": null,
            "margin": null,
            "max_height": null,
            "max_width": null,
            "min_height": null,
            "min_width": null,
            "object_fit": null,
            "object_position": null,
            "order": null,
            "overflow": null,
            "overflow_x": null,
            "overflow_y": null,
            "padding": null,
            "right": null,
            "top": null,
            "visibility": null,
            "width": null
          }
        },
        "9245a1d13a51458683fb8919859286eb": {
          "model_module": "@jupyter-widgets/controls",
          "model_module_version": "1.5.0",
          "model_name": "HBoxModel",
          "state": {
            "_dom_classes": [],
            "_model_module": "@jupyter-widgets/controls",
            "_model_module_version": "1.5.0",
            "_model_name": "HBoxModel",
            "_view_count": null,
            "_view_module": "@jupyter-widgets/controls",
            "_view_module_version": "1.5.0",
            "_view_name": "HBoxView",
            "box_style": "",
            "children": [
              "IPY_MODEL_a1f9f23283d04df9bab7e503d4a009e2",
              "IPY_MODEL_0807ef1d5bef440eab026169de642297",
              "IPY_MODEL_53646c4ab376433a93fd7902a2cc0b12"
            ],
            "layout": "IPY_MODEL_ba2e795d935147b0b1f35aedc4671d92"
          }
        },
        "95e90162bf3045ccbde21a72b873c1a1": {
          "model_module": "@jupyter-widgets/base",
          "model_module_version": "1.2.0",
          "model_name": "LayoutModel",
          "state": {
            "_model_module": "@jupyter-widgets/base",
            "_model_module_version": "1.2.0",
            "_model_name": "LayoutModel",
            "_view_count": null,
            "_view_module": "@jupyter-widgets/base",
            "_view_module_version": "1.2.0",
            "_view_name": "LayoutView",
            "align_content": null,
            "align_items": null,
            "align_self": null,
            "border": null,
            "bottom": null,
            "display": null,
            "flex": null,
            "flex_flow": null,
            "grid_area": null,
            "grid_auto_columns": null,
            "grid_auto_flow": null,
            "grid_auto_rows": null,
            "grid_column": null,
            "grid_gap": null,
            "grid_row": null,
            "grid_template_areas": null,
            "grid_template_columns": null,
            "grid_template_rows": null,
            "height": null,
            "justify_content": null,
            "justify_items": null,
            "left": null,
            "margin": null,
            "max_height": null,
            "max_width": null,
            "min_height": null,
            "min_width": null,
            "object_fit": null,
            "object_position": null,
            "order": null,
            "overflow": null,
            "overflow_x": null,
            "overflow_y": null,
            "padding": null,
            "right": null,
            "top": null,
            "visibility": null,
            "width": null
          }
        },
        "a1f9f23283d04df9bab7e503d4a009e2": {
          "model_module": "@jupyter-widgets/controls",
          "model_module_version": "1.5.0",
          "model_name": "HTMLModel",
          "state": {
            "_dom_classes": [],
            "_model_module": "@jupyter-widgets/controls",
            "_model_module_version": "1.5.0",
            "_model_name": "HTMLModel",
            "_view_count": null,
            "_view_module": "@jupyter-widgets/controls",
            "_view_module_version": "1.5.0",
            "_view_name": "HTMLView",
            "description": "",
            "description_tooltip": null,
            "layout": "IPY_MODEL_aaec8ff6a4664d38b1be547dbb22893f",
            "placeholder": "​",
            "style": "IPY_MODEL_e43833dbdaf148b19d81bc305daaccf8",
            "value": "100%"
          }
        },
        "a4314f4295074f809549b59c68841ba5": {
          "model_module": "@jupyter-widgets/controls",
          "model_module_version": "1.5.0",
          "model_name": "DescriptionStyleModel",
          "state": {
            "_model_module": "@jupyter-widgets/controls",
            "_model_module_version": "1.5.0",
            "_model_name": "DescriptionStyleModel",
            "_view_count": null,
            "_view_module": "@jupyter-widgets/base",
            "_view_module_version": "1.2.0",
            "_view_name": "StyleView",
            "description_width": ""
          }
        },
        "aaec8ff6a4664d38b1be547dbb22893f": {
          "model_module": "@jupyter-widgets/base",
          "model_module_version": "1.2.0",
          "model_name": "LayoutModel",
          "state": {
            "_model_module": "@jupyter-widgets/base",
            "_model_module_version": "1.2.0",
            "_model_name": "LayoutModel",
            "_view_count": null,
            "_view_module": "@jupyter-widgets/base",
            "_view_module_version": "1.2.0",
            "_view_name": "LayoutView",
            "align_content": null,
            "align_items": null,
            "align_self": null,
            "border": null,
            "bottom": null,
            "display": null,
            "flex": null,
            "flex_flow": null,
            "grid_area": null,
            "grid_auto_columns": null,
            "grid_auto_flow": null,
            "grid_auto_rows": null,
            "grid_column": null,
            "grid_gap": null,
            "grid_row": null,
            "grid_template_areas": null,
            "grid_template_columns": null,
            "grid_template_rows": null,
            "height": null,
            "justify_content": null,
            "justify_items": null,
            "left": null,
            "margin": null,
            "max_height": null,
            "max_width": null,
            "min_height": null,
            "min_width": null,
            "object_fit": null,
            "object_position": null,
            "order": null,
            "overflow": null,
            "overflow_x": null,
            "overflow_y": null,
            "padding": null,
            "right": null,
            "top": null,
            "visibility": null,
            "width": null
          }
        },
        "add0bed843aa4ba8be6f413d7b23a213": {
          "model_module": "@jupyter-widgets/controls",
          "model_module_version": "1.5.0",
          "model_name": "ProgressStyleModel",
          "state": {
            "_model_module": "@jupyter-widgets/controls",
            "_model_module_version": "1.5.0",
            "_model_name": "ProgressStyleModel",
            "_view_count": null,
            "_view_module": "@jupyter-widgets/base",
            "_view_module_version": "1.2.0",
            "_view_name": "StyleView",
            "bar_color": null,
            "description_width": ""
          }
        },
        "ba2e795d935147b0b1f35aedc4671d92": {
          "model_module": "@jupyter-widgets/base",
          "model_module_version": "1.2.0",
          "model_name": "LayoutModel",
          "state": {
            "_model_module": "@jupyter-widgets/base",
            "_model_module_version": "1.2.0",
            "_model_name": "LayoutModel",
            "_view_count": null,
            "_view_module": "@jupyter-widgets/base",
            "_view_module_version": "1.2.0",
            "_view_name": "LayoutView",
            "align_content": null,
            "align_items": null,
            "align_self": null,
            "border": null,
            "bottom": null,
            "display": null,
            "flex": null,
            "flex_flow": null,
            "grid_area": null,
            "grid_auto_columns": null,
            "grid_auto_flow": null,
            "grid_auto_rows": null,
            "grid_column": null,
            "grid_gap": null,
            "grid_row": null,
            "grid_template_areas": null,
            "grid_template_columns": null,
            "grid_template_rows": null,
            "height": null,
            "justify_content": null,
            "justify_items": null,
            "left": null,
            "margin": null,
            "max_height": null,
            "max_width": null,
            "min_height": null,
            "min_width": null,
            "object_fit": null,
            "object_position": null,
            "order": null,
            "overflow": null,
            "overflow_x": null,
            "overflow_y": null,
            "padding": null,
            "right": null,
            "top": null,
            "visibility": null,
            "width": null
          }
        },
        "c9189dbddec2457ea52f32f945e3af38": {
          "model_module": "@jupyter-widgets/controls",
          "model_module_version": "1.5.0",
          "model_name": "ProgressStyleModel",
          "state": {
            "_model_module": "@jupyter-widgets/controls",
            "_model_module_version": "1.5.0",
            "_model_name": "ProgressStyleModel",
            "_view_count": null,
            "_view_module": "@jupyter-widgets/base",
            "_view_module_version": "1.2.0",
            "_view_name": "StyleView",
            "bar_color": null,
            "description_width": ""
          }
        },
        "ccb6c86d21e6451797ff23f7c60703e5": {
          "model_module": "@jupyter-widgets/controls",
          "model_module_version": "1.5.0",
          "model_name": "DescriptionStyleModel",
          "state": {
            "_model_module": "@jupyter-widgets/controls",
            "_model_module_version": "1.5.0",
            "_model_name": "DescriptionStyleModel",
            "_view_count": null,
            "_view_module": "@jupyter-widgets/base",
            "_view_module_version": "1.2.0",
            "_view_name": "StyleView",
            "description_width": ""
          }
        },
        "e43833dbdaf148b19d81bc305daaccf8": {
          "model_module": "@jupyter-widgets/controls",
          "model_module_version": "1.5.0",
          "model_name": "DescriptionStyleModel",
          "state": {
            "_model_module": "@jupyter-widgets/controls",
            "_model_module_version": "1.5.0",
            "_model_name": "DescriptionStyleModel",
            "_view_count": null,
            "_view_module": "@jupyter-widgets/base",
            "_view_module_version": "1.2.0",
            "_view_name": "StyleView",
            "description_width": ""
          }
        },
        "f740669a2ea240c99f187d45e698ae9c": {
          "model_module": "@jupyter-widgets/base",
          "model_module_version": "1.2.0",
          "model_name": "LayoutModel",
          "state": {
            "_model_module": "@jupyter-widgets/base",
            "_model_module_version": "1.2.0",
            "_model_name": "LayoutModel",
            "_view_count": null,
            "_view_module": "@jupyter-widgets/base",
            "_view_module_version": "1.2.0",
            "_view_name": "LayoutView",
            "align_content": null,
            "align_items": null,
            "align_self": null,
            "border": null,
            "bottom": null,
            "display": null,
            "flex": null,
            "flex_flow": null,
            "grid_area": null,
            "grid_auto_columns": null,
            "grid_auto_flow": null,
            "grid_auto_rows": null,
            "grid_column": null,
            "grid_gap": null,
            "grid_row": null,
            "grid_template_areas": null,
            "grid_template_columns": null,
            "grid_template_rows": null,
            "height": null,
            "justify_content": null,
            "justify_items": null,
            "left": null,
            "margin": null,
            "max_height": null,
            "max_width": null,
            "min_height": null,
            "min_width": null,
            "object_fit": null,
            "object_position": null,
            "order": null,
            "overflow": null,
            "overflow_x": null,
            "overflow_y": null,
            "padding": null,
            "right": null,
            "top": null,
            "visibility": null,
            "width": null
          }
        }
      }
    }
  },
  "nbformat": 4,
  "nbformat_minor": 0
}
